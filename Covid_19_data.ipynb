{
  "nbformat": 4,
  "nbformat_minor": 0,
  "metadata": {
    "colab": {
      "provenance": []
    },
    "kernelspec": {
      "name": "python3",
      "display_name": "Python 3"
    },
    "language_info": {
      "name": "python"
    }
  },
  "cells": [
    {
      "cell_type": "code",
      "execution_count": 1,
      "metadata": {
        "id": "PpZtqb7uZ2tb"
      },
      "outputs": [],
      "source": [
        "import pandas as pd\n",
        "import numpy as np\n",
        "import matplotlib.pyplot as plt\n",
        "import seaborn as sns"
      ]
    },
    {
      "cell_type": "code",
      "source": [
        "df = pd.read_csv('/content/COVID-19 Coronavirus.csv')\n",
        "df.head(5)"
      ],
      "metadata": {
        "id": "KRjsVFhum85h",
        "colab": {
          "base_uri": "https://localhost:8080/",
          "height": 258
        },
        "outputId": "69acd14b-073e-4ad5-9d26-b31c8ab33433"
      },
      "execution_count": 2,
      "outputs": [
        {
          "output_type": "execute_result",
          "data": {
            "text/plain": [
              "       Country  Other names ISO 3166-1 alpha-3 CODE  Population Continent  \\\n",
              "0  Afghanistan  Afghanistan                     AFG    40462186      Asia   \n",
              "1      Albania      Albania                     ALB     2872296    Europe   \n",
              "2      Algeria      Algeria                     DZA    45236699    Africa   \n",
              "3      Andorra      Andorra                     AND       77481    Europe   \n",
              "4       Angola       Angola                     AGO    34654212    Africa   \n",
              "\n",
              "   Confirmed Case  Total Deaths   Total Active Case  Total Active deathCase  \\\n",
              "0          177827          7671                4395                     190   \n",
              "1          273870          3492               95349                    1216   \n",
              "2          265691          6874                5873                     152   \n",
              "3           40024           153              516565                    1975   \n",
              "4           99194          1900                2862                      55   \n",
              "\n",
              "   Recovery Case  Mortality Rate  Infection Rate    Date  \n",
              "0         165761        4.313743      439.489354  7671.0  \n",
              "1         175029        1.275058     9534.880806     NaN  \n",
              "2         252944        2.587216      587.335075     NaN  \n",
              "3        -476694        0.382271    51656.535150     NaN  \n",
              "4          94432        1.915438      286.239375     NaN  "
            ],
            "text/html": [
              "\n",
              "  <div id=\"df-e6038990-5d96-4ef4-a5a3-6ad9e4b00999\" class=\"colab-df-container\">\n",
              "    <div>\n",
              "<style scoped>\n",
              "    .dataframe tbody tr th:only-of-type {\n",
              "        vertical-align: middle;\n",
              "    }\n",
              "\n",
              "    .dataframe tbody tr th {\n",
              "        vertical-align: top;\n",
              "    }\n",
              "\n",
              "    .dataframe thead th {\n",
              "        text-align: right;\n",
              "    }\n",
              "</style>\n",
              "<table border=\"1\" class=\"dataframe\">\n",
              "  <thead>\n",
              "    <tr style=\"text-align: right;\">\n",
              "      <th></th>\n",
              "      <th>Country</th>\n",
              "      <th>Other names</th>\n",
              "      <th>ISO 3166-1 alpha-3 CODE</th>\n",
              "      <th>Population</th>\n",
              "      <th>Continent</th>\n",
              "      <th>Confirmed Case</th>\n",
              "      <th>Total Deaths</th>\n",
              "      <th>Total Active Case</th>\n",
              "      <th>Total Active deathCase</th>\n",
              "      <th>Recovery Case</th>\n",
              "      <th>Mortality Rate</th>\n",
              "      <th>Infection Rate</th>\n",
              "      <th>Date</th>\n",
              "    </tr>\n",
              "  </thead>\n",
              "  <tbody>\n",
              "    <tr>\n",
              "      <th>0</th>\n",
              "      <td>Afghanistan</td>\n",
              "      <td>Afghanistan</td>\n",
              "      <td>AFG</td>\n",
              "      <td>40462186</td>\n",
              "      <td>Asia</td>\n",
              "      <td>177827</td>\n",
              "      <td>7671</td>\n",
              "      <td>4395</td>\n",
              "      <td>190</td>\n",
              "      <td>165761</td>\n",
              "      <td>4.313743</td>\n",
              "      <td>439.489354</td>\n",
              "      <td>7671.0</td>\n",
              "    </tr>\n",
              "    <tr>\n",
              "      <th>1</th>\n",
              "      <td>Albania</td>\n",
              "      <td>Albania</td>\n",
              "      <td>ALB</td>\n",
              "      <td>2872296</td>\n",
              "      <td>Europe</td>\n",
              "      <td>273870</td>\n",
              "      <td>3492</td>\n",
              "      <td>95349</td>\n",
              "      <td>1216</td>\n",
              "      <td>175029</td>\n",
              "      <td>1.275058</td>\n",
              "      <td>9534.880806</td>\n",
              "      <td>NaN</td>\n",
              "    </tr>\n",
              "    <tr>\n",
              "      <th>2</th>\n",
              "      <td>Algeria</td>\n",
              "      <td>Algeria</td>\n",
              "      <td>DZA</td>\n",
              "      <td>45236699</td>\n",
              "      <td>Africa</td>\n",
              "      <td>265691</td>\n",
              "      <td>6874</td>\n",
              "      <td>5873</td>\n",
              "      <td>152</td>\n",
              "      <td>252944</td>\n",
              "      <td>2.587216</td>\n",
              "      <td>587.335075</td>\n",
              "      <td>NaN</td>\n",
              "    </tr>\n",
              "    <tr>\n",
              "      <th>3</th>\n",
              "      <td>Andorra</td>\n",
              "      <td>Andorra</td>\n",
              "      <td>AND</td>\n",
              "      <td>77481</td>\n",
              "      <td>Europe</td>\n",
              "      <td>40024</td>\n",
              "      <td>153</td>\n",
              "      <td>516565</td>\n",
              "      <td>1975</td>\n",
              "      <td>-476694</td>\n",
              "      <td>0.382271</td>\n",
              "      <td>51656.535150</td>\n",
              "      <td>NaN</td>\n",
              "    </tr>\n",
              "    <tr>\n",
              "      <th>4</th>\n",
              "      <td>Angola</td>\n",
              "      <td>Angola</td>\n",
              "      <td>AGO</td>\n",
              "      <td>34654212</td>\n",
              "      <td>Africa</td>\n",
              "      <td>99194</td>\n",
              "      <td>1900</td>\n",
              "      <td>2862</td>\n",
              "      <td>55</td>\n",
              "      <td>94432</td>\n",
              "      <td>1.915438</td>\n",
              "      <td>286.239375</td>\n",
              "      <td>NaN</td>\n",
              "    </tr>\n",
              "  </tbody>\n",
              "</table>\n",
              "</div>\n",
              "    <div class=\"colab-df-buttons\">\n",
              "\n",
              "  <div class=\"colab-df-container\">\n",
              "    <button class=\"colab-df-convert\" onclick=\"convertToInteractive('df-e6038990-5d96-4ef4-a5a3-6ad9e4b00999')\"\n",
              "            title=\"Convert this dataframe to an interactive table.\"\n",
              "            style=\"display:none;\">\n",
              "\n",
              "  <svg xmlns=\"http://www.w3.org/2000/svg\" height=\"24px\" viewBox=\"0 -960 960 960\">\n",
              "    <path d=\"M120-120v-720h720v720H120Zm60-500h600v-160H180v160Zm220 220h160v-160H400v160Zm0 220h160v-160H400v160ZM180-400h160v-160H180v160Zm440 0h160v-160H620v160ZM180-180h160v-160H180v160Zm440 0h160v-160H620v160Z\"/>\n",
              "  </svg>\n",
              "    </button>\n",
              "\n",
              "  <style>\n",
              "    .colab-df-container {\n",
              "      display:flex;\n",
              "      gap: 12px;\n",
              "    }\n",
              "\n",
              "    .colab-df-convert {\n",
              "      background-color: #E8F0FE;\n",
              "      border: none;\n",
              "      border-radius: 50%;\n",
              "      cursor: pointer;\n",
              "      display: none;\n",
              "      fill: #1967D2;\n",
              "      height: 32px;\n",
              "      padding: 0 0 0 0;\n",
              "      width: 32px;\n",
              "    }\n",
              "\n",
              "    .colab-df-convert:hover {\n",
              "      background-color: #E2EBFA;\n",
              "      box-shadow: 0px 1px 2px rgba(60, 64, 67, 0.3), 0px 1px 3px 1px rgba(60, 64, 67, 0.15);\n",
              "      fill: #174EA6;\n",
              "    }\n",
              "\n",
              "    .colab-df-buttons div {\n",
              "      margin-bottom: 4px;\n",
              "    }\n",
              "\n",
              "    [theme=dark] .colab-df-convert {\n",
              "      background-color: #3B4455;\n",
              "      fill: #D2E3FC;\n",
              "    }\n",
              "\n",
              "    [theme=dark] .colab-df-convert:hover {\n",
              "      background-color: #434B5C;\n",
              "      box-shadow: 0px 1px 3px 1px rgba(0, 0, 0, 0.15);\n",
              "      filter: drop-shadow(0px 1px 2px rgba(0, 0, 0, 0.3));\n",
              "      fill: #FFFFFF;\n",
              "    }\n",
              "  </style>\n",
              "\n",
              "    <script>\n",
              "      const buttonEl =\n",
              "        document.querySelector('#df-e6038990-5d96-4ef4-a5a3-6ad9e4b00999 button.colab-df-convert');\n",
              "      buttonEl.style.display =\n",
              "        google.colab.kernel.accessAllowed ? 'block' : 'none';\n",
              "\n",
              "      async function convertToInteractive(key) {\n",
              "        const element = document.querySelector('#df-e6038990-5d96-4ef4-a5a3-6ad9e4b00999');\n",
              "        const dataTable =\n",
              "          await google.colab.kernel.invokeFunction('convertToInteractive',\n",
              "                                                    [key], {});\n",
              "        if (!dataTable) return;\n",
              "\n",
              "        const docLinkHtml = 'Like what you see? Visit the ' +\n",
              "          '<a target=\"_blank\" href=https://colab.research.google.com/notebooks/data_table.ipynb>data table notebook</a>'\n",
              "          + ' to learn more about interactive tables.';\n",
              "        element.innerHTML = '';\n",
              "        dataTable['output_type'] = 'display_data';\n",
              "        await google.colab.output.renderOutput(dataTable, element);\n",
              "        const docLink = document.createElement('div');\n",
              "        docLink.innerHTML = docLinkHtml;\n",
              "        element.appendChild(docLink);\n",
              "      }\n",
              "    </script>\n",
              "  </div>\n",
              "\n",
              "\n",
              "<div id=\"df-78110380-4087-4886-9b57-916b9ef56977\">\n",
              "  <button class=\"colab-df-quickchart\" onclick=\"quickchart('df-78110380-4087-4886-9b57-916b9ef56977')\"\n",
              "            title=\"Suggest charts\"\n",
              "            style=\"display:none;\">\n",
              "\n",
              "<svg xmlns=\"http://www.w3.org/2000/svg\" height=\"24px\"viewBox=\"0 0 24 24\"\n",
              "     width=\"24px\">\n",
              "    <g>\n",
              "        <path d=\"M19 3H5c-1.1 0-2 .9-2 2v14c0 1.1.9 2 2 2h14c1.1 0 2-.9 2-2V5c0-1.1-.9-2-2-2zM9 17H7v-7h2v7zm4 0h-2V7h2v10zm4 0h-2v-4h2v4z\"/>\n",
              "    </g>\n",
              "</svg>\n",
              "  </button>\n",
              "\n",
              "<style>\n",
              "  .colab-df-quickchart {\n",
              "      --bg-color: #E8F0FE;\n",
              "      --fill-color: #1967D2;\n",
              "      --hover-bg-color: #E2EBFA;\n",
              "      --hover-fill-color: #174EA6;\n",
              "      --disabled-fill-color: #AAA;\n",
              "      --disabled-bg-color: #DDD;\n",
              "  }\n",
              "\n",
              "  [theme=dark] .colab-df-quickchart {\n",
              "      --bg-color: #3B4455;\n",
              "      --fill-color: #D2E3FC;\n",
              "      --hover-bg-color: #434B5C;\n",
              "      --hover-fill-color: #FFFFFF;\n",
              "      --disabled-bg-color: #3B4455;\n",
              "      --disabled-fill-color: #666;\n",
              "  }\n",
              "\n",
              "  .colab-df-quickchart {\n",
              "    background-color: var(--bg-color);\n",
              "    border: none;\n",
              "    border-radius: 50%;\n",
              "    cursor: pointer;\n",
              "    display: none;\n",
              "    fill: var(--fill-color);\n",
              "    height: 32px;\n",
              "    padding: 0;\n",
              "    width: 32px;\n",
              "  }\n",
              "\n",
              "  .colab-df-quickchart:hover {\n",
              "    background-color: var(--hover-bg-color);\n",
              "    box-shadow: 0 1px 2px rgba(60, 64, 67, 0.3), 0 1px 3px 1px rgba(60, 64, 67, 0.15);\n",
              "    fill: var(--button-hover-fill-color);\n",
              "  }\n",
              "\n",
              "  .colab-df-quickchart-complete:disabled,\n",
              "  .colab-df-quickchart-complete:disabled:hover {\n",
              "    background-color: var(--disabled-bg-color);\n",
              "    fill: var(--disabled-fill-color);\n",
              "    box-shadow: none;\n",
              "  }\n",
              "\n",
              "  .colab-df-spinner {\n",
              "    border: 2px solid var(--fill-color);\n",
              "    border-color: transparent;\n",
              "    border-bottom-color: var(--fill-color);\n",
              "    animation:\n",
              "      spin 1s steps(1) infinite;\n",
              "  }\n",
              "\n",
              "  @keyframes spin {\n",
              "    0% {\n",
              "      border-color: transparent;\n",
              "      border-bottom-color: var(--fill-color);\n",
              "      border-left-color: var(--fill-color);\n",
              "    }\n",
              "    20% {\n",
              "      border-color: transparent;\n",
              "      border-left-color: var(--fill-color);\n",
              "      border-top-color: var(--fill-color);\n",
              "    }\n",
              "    30% {\n",
              "      border-color: transparent;\n",
              "      border-left-color: var(--fill-color);\n",
              "      border-top-color: var(--fill-color);\n",
              "      border-right-color: var(--fill-color);\n",
              "    }\n",
              "    40% {\n",
              "      border-color: transparent;\n",
              "      border-right-color: var(--fill-color);\n",
              "      border-top-color: var(--fill-color);\n",
              "    }\n",
              "    60% {\n",
              "      border-color: transparent;\n",
              "      border-right-color: var(--fill-color);\n",
              "    }\n",
              "    80% {\n",
              "      border-color: transparent;\n",
              "      border-right-color: var(--fill-color);\n",
              "      border-bottom-color: var(--fill-color);\n",
              "    }\n",
              "    90% {\n",
              "      border-color: transparent;\n",
              "      border-bottom-color: var(--fill-color);\n",
              "    }\n",
              "  }\n",
              "</style>\n",
              "\n",
              "  <script>\n",
              "    async function quickchart(key) {\n",
              "      const quickchartButtonEl =\n",
              "        document.querySelector('#' + key + ' button');\n",
              "      quickchartButtonEl.disabled = true;  // To prevent multiple clicks.\n",
              "      quickchartButtonEl.classList.add('colab-df-spinner');\n",
              "      try {\n",
              "        const charts = await google.colab.kernel.invokeFunction(\n",
              "            'suggestCharts', [key], {});\n",
              "      } catch (error) {\n",
              "        console.error('Error during call to suggestCharts:', error);\n",
              "      }\n",
              "      quickchartButtonEl.classList.remove('colab-df-spinner');\n",
              "      quickchartButtonEl.classList.add('colab-df-quickchart-complete');\n",
              "    }\n",
              "    (() => {\n",
              "      let quickchartButtonEl =\n",
              "        document.querySelector('#df-78110380-4087-4886-9b57-916b9ef56977 button');\n",
              "      quickchartButtonEl.style.display =\n",
              "        google.colab.kernel.accessAllowed ? 'block' : 'none';\n",
              "    })();\n",
              "  </script>\n",
              "</div>\n",
              "\n",
              "    </div>\n",
              "  </div>\n"
            ],
            "application/vnd.google.colaboratory.intrinsic+json": {
              "type": "dataframe",
              "variable_name": "df",
              "summary": "{\n  \"name\": \"df\",\n  \"rows\": 225,\n  \"fields\": [\n    {\n      \"column\": \"Country\",\n      \"properties\": {\n        \"dtype\": \"string\",\n        \"num_unique_values\": 225,\n        \"samples\": [\n          \"Aruba\",\n          \"Slovenia\",\n          \"Malawi\"\n        ],\n        \"semantic_type\": \"\",\n        \"description\": \"\"\n      }\n    },\n    {\n      \"column\": \"Other names\",\n      \"properties\": {\n        \"dtype\": \"string\",\n        \"num_unique_values\": 224,\n        \"samples\": [\n          \"Aruba\",\n          \"Guinea\",\n          \"Luxembourg\"\n        ],\n        \"semantic_type\": \"\",\n        \"description\": \"\"\n      }\n    },\n    {\n      \"column\": \"ISO 3166-1 alpha-3 CODE\",\n      \"properties\": {\n        \"dtype\": \"string\",\n        \"num_unique_values\": 225,\n        \"samples\": [\n          \"ABW\",\n          \"SVN\",\n          \"MWI\"\n        ],\n        \"semantic_type\": \"\",\n        \"description\": \"\"\n      }\n    },\n    {\n      \"column\": \"Population\",\n      \"properties\": {\n        \"dtype\": \"number\",\n        \"std\": 139241847,\n        \"min\": 805,\n        \"max\": 1439323776,\n        \"num_unique_values\": 225,\n        \"samples\": [\n          107560,\n          2079438,\n          19994654\n        ],\n        \"semantic_type\": \"\",\n        \"description\": \"\"\n      }\n    },\n    {\n      \"column\": \"Continent\",\n      \"properties\": {\n        \"dtype\": \"category\",\n        \"num_unique_values\": 6,\n        \"samples\": [\n          \"Asia\",\n          \"Europe\",\n          \"Northern America\"\n        ],\n        \"semantic_type\": \"\",\n        \"description\": \"\"\n      }\n    },\n    {\n      \"column\": \"Confirmed Case\",\n      \"properties\": {\n        \"dtype\": \"number\",\n        \"std\": 7275937,\n        \"min\": 1,\n        \"max\": 81839052,\n        \"num_unique_values\": 224,\n        \"samples\": [\n          34051,\n          36459,\n          216979\n        ],\n        \"semantic_type\": \"\",\n        \"description\": \"\"\n      }\n    },\n    {\n      \"column\": \"Total Deaths\",\n      \"properties\": {\n        \"dtype\": \"number\",\n        \"std\": 96891,\n        \"min\": 0,\n        \"max\": 1008222,\n        \"num_unique_values\": 208,\n        \"samples\": [\n          43,\n          29122,\n          365\n        ],\n        \"semantic_type\": \"\",\n        \"description\": \"\"\n      }\n    },\n    {\n      \"column\": \" Total Active Case\",\n      \"properties\": {\n        \"dtype\": \"number\",\n        \"std\": 145060,\n        \"min\": 9,\n        \"max\": 696044,\n        \"num_unique_values\": 225,\n        \"samples\": [\n          316577,\n          468344,\n          4284\n        ],\n        \"semantic_type\": \"\",\n        \"description\": \"\"\n      }\n    },\n    {\n      \"column\": \"Total Active deathCase\",\n      \"properties\": {\n        \"dtype\": \"number\",\n        \"std\": 1195,\n        \"min\": 0,\n        \"max\": 6286,\n        \"num_unique_values\": 200,\n        \"samples\": [\n          1129,\n          1302,\n          3\n        ],\n        \"semantic_type\": \"\",\n        \"description\": \"\"\n      }\n    },\n    {\n      \"column\": \"Recovery Case\",\n      \"properties\": {\n        \"dtype\": \"number\",\n        \"std\": 7170096,\n        \"min\": -661835,\n        \"max\": 80586096,\n        \"num_unique_values\": 225,\n        \"samples\": [\n          -282738,\n          499047,\n          78754\n        ],\n        \"semantic_type\": \"\",\n        \"description\": \"\"\n      }\n    },\n    {\n      \"column\": \"Mortality Rate\",\n      \"properties\": {\n        \"dtype\": \"number\",\n        \"std\": 1.7417281008396182,\n        \"min\": 0.0,\n        \"max\": 18.15178723,\n        \"num_unique_values\": 218,\n        \"samples\": [\n          2.245926202,\n          18.15178723,\n          0.515805884\n        ],\n        \"semantic_type\": \"\",\n        \"description\": \"\"\n      }\n    },\n    {\n      \"column\": \"Infection Rate\",\n      \"properties\": {\n        \"dtype\": \"number\",\n        \"std\": 14506.030543235758,\n        \"min\": 0.853723086,\n        \"max\": 69604.37505,\n        \"num_unique_values\": 225,\n        \"samples\": [\n          31657.67943,\n          46834.38506,\n          428.4345205\n        ],\n        \"semantic_type\": \"\",\n        \"description\": \"\"\n      }\n    },\n    {\n      \"column\": \"Date\",\n      \"properties\": {\n        \"dtype\": \"number\",\n        \"std\": null,\n        \"min\": 7671.0,\n        \"max\": 7671.0,\n        \"num_unique_values\": 1,\n        \"samples\": [\n          7671.0\n        ],\n        \"semantic_type\": \"\",\n        \"description\": \"\"\n      }\n    }\n  ]\n}"
            }
          },
          "metadata": {},
          "execution_count": 2
        }
      ]
    },
    {
      "source": [
        "# @title Population vs Confirmed Case\n",
        "\n",
        "from matplotlib import pyplot as plt\n",
        "df.plot(kind='scatter', x='Population', y='Confirmed Case', s=32, alpha=.8)\n",
        "plt.gca().spines[['top', 'right',]].set_visible(False)"
      ],
      "cell_type": "code",
      "execution_count": 3,
      "outputs": [
        {
          "output_type": "display_data",
          "data": {
            "text/plain": [
              "<Figure size 640x480 with 1 Axes>"
            ],
            "image/png": "[encoded data removed]"
          },
          "metadata": {}
        }
      ],
      "metadata": {
        "cellView": "form",
        "colab": {
          "base_uri": "https://localhost:8080/",
          "height": 465
        },
        "id": "nMiHsqOq2fJH",
        "outputId": "3fdb370e-c23e-4899-f902-68950a15f93b"
      }
    },
    {
      "cell_type": "code",
      "source": [
        "print(df.info())\n",
        "print(df.describe())\n",
        "print(df.columns)"
      ],
      "metadata": {
        "colab": {
          "base_uri": "https://localhost:8080/"
        },
        "id": "wRmiwcH9nrtj",
        "outputId": "4fc4b43e-6c06-4283-c12f-1bd6d56f952f"
      },
      "execution_count": 4,
      "outputs": [
        {
          "output_type": "stream",
          "name": "stdout",
          "text": [
            "<class 'pandas.core.frame.DataFrame'>\n",
            "RangeIndex: 225 entries, 0 to 224\n",
            "Data columns (total 13 columns):\n",
            " #   Column                   Non-Null Count  Dtype  \n",
            "---  ------                   --------------  -----  \n",
            " 0   Country                  225 non-null    object \n",
            " 1   Other names              224 non-null    object \n",
            " 2   ISO 3166-1 alpha-3 CODE  225 non-null    object \n",
            " 3   Population               225 non-null    int64  \n",
            " 4   Continent                225 non-null    object \n",
            " 5   Confirmed Case           225 non-null    int64  \n",
            " 6   Total Deaths             225 non-null    int64  \n",
            " 7    Total Active Case       225 non-null    int64  \n",
            " 8   Total Active deathCase   225 non-null    int64  \n",
            " 9   Recovery Case            225 non-null    int64  \n",
            " 10  Mortality Rate           225 non-null    float64\n",
            " 11  Infection Rate           225 non-null    float64\n",
            " 12  Date                     1 non-null      float64\n",
            "dtypes: float64(3), int64(6), object(4)\n",
            "memory usage: 23.0+ KB\n",
            "None\n",
            "         Population  Confirmed Case  Total Deaths   Total Active Case  \\\n",
            "count  2.250000e+02    2.250000e+02  2.250000e+02          225.000000   \n",
            "mean   3.507321e+07    2.184781e+06  2.744813e+04       136900.373333   \n",
            "std    1.392418e+08    7.275938e+06  9.689177e+04       145060.340289   \n",
            "min    8.050000e+02    1.000000e+00  0.000000e+00            9.000000   \n",
            "25%    5.665570e+05    2.407100e+04  1.890000e+02        11384.000000   \n",
            "50%    5.827911e+06    1.639360e+05  1.965000e+03        88987.000000   \n",
            "75%    2.190585e+07    1.092547e+06  1.366000e+04       223335.000000   \n",
            "max    1.439324e+09    8.183905e+07  1.008222e+06       696044.000000   \n",
            "\n",
            "       Total Active deathCase  Recovery Case  Mortality Rate  Infection Rate  \\\n",
            "count              225.000000   2.250000e+02      225.000000      225.000000   \n",
            "mean              1096.715556   2.020433e+06        1.444125    13690.037682   \n",
            "std               1195.715543   7.170097e+06        1.741728    14506.030543   \n",
            "min                  0.000000  -6.618350e+05        0.000000        0.853723   \n",
            "25%                123.000000  -9.100000e+03        0.511291     1138.390411   \n",
            "50%                708.000000   1.133020e+05        1.036905     8898.745685   \n",
            "75%               1795.000000   9.213550e+05        1.977017    22333.516280   \n",
            "max               6286.000000   8.058610e+07       18.151787    69604.375050   \n",
            "\n",
            "         Date  \n",
            "count     1.0  \n",
            "mean   7671.0  \n",
            "std       NaN  \n",
            "min    7671.0  \n",
            "25%    7671.0  \n",
            "50%    7671.0  \n",
            "75%    7671.0  \n",
            "max    7671.0  \n",
            "Index(['Country', 'Other names', 'ISO 3166-1 alpha-3 CODE', 'Population',\n",
            "       'Continent', 'Confirmed Case', 'Total Deaths', ' Total Active Case',\n",
            "       'Total Active deathCase', 'Recovery Case', 'Mortality Rate',\n",
            "       'Infection Rate', 'Date'],\n",
            "      dtype='object')\n"
          ]
        }
      ]
    },
    {
      "cell_type": "code",
      "source": [
        "del df['Date']\n",
        "print(df)"
      ],
      "metadata": {
        "colab": {
          "base_uri": "https://localhost:8080/"
        },
        "id": "OoFqBQ2AU7UT",
        "outputId": "a6dba206-fd15-4ad9-b20c-cac20e6d48f0"
      },
      "execution_count": 5,
      "outputs": [
        {
          "output_type": "stream",
          "name": "stdout",
          "text": [
            "               Country                Other names ISO 3166-1 alpha-3 CODE  \\\n",
            "0          Afghanistan                Afghanistan                     AFG   \n",
            "1              Albania                    Albania                     ALB   \n",
            "2              Algeria                    Algeria                     DZA   \n",
            "3              Andorra                    Andorra                     AND   \n",
            "4               Angola                     Angola                     AGO   \n",
            "..                 ...                        ...                     ...   \n",
            "220  Wallis and Futuna  Wallis and Futuna Islands                     WLF   \n",
            "221     Western Sahara             Western Sahara                   ESHÂ    \n",
            "222              Yemen                      Yemen                     YEM   \n",
            "223             Zambia                     Zambia                     ZMB   \n",
            "224           Zimbabwe                   Zimbabwe                     ZWE   \n",
            "\n",
            "     Population Continent  Confirmed Case  Total Deaths   Total Active Case  \\\n",
            "0      40462186      Asia          177827          7671                4395   \n",
            "1       2872296    Europe          273870          3492               95349   \n",
            "2      45236699    Africa          265691          6874                5873   \n",
            "3         77481    Europe           40024           153              516565   \n",
            "4      34654212    Africa           99194          1900                2862   \n",
            "..          ...       ...             ...           ...                 ...   \n",
            "220       10894   Oceania             454             7               41674   \n",
            "221      623031    Africa              10             1                  16   \n",
            "222    30975258      Asia           11806          2143                 381   \n",
            "223    19284482    Africa          317076          3967               16442   \n",
            "224    15241601    Africa          246525          5446               16174   \n",
            "\n",
            "     Total Active deathCase  Recovery Case  Mortality Rate  Infection Rate  \n",
            "0                       190         165761        4.313743      439.489354  \n",
            "1                      1216         175029        1.275058     9534.880806  \n",
            "2                       152         252944        2.587216      587.335075  \n",
            "3                      1975        -476694        0.382271    51656.535150  \n",
            "4                        55          94432        1.915438      286.239375  \n",
            "..                      ...            ...             ...             ...  \n",
            "220                     643         -41227        1.541850     4167.431614  \n",
            "221                       2             -7       10.000000        1.605057  \n",
            "222                      69           9282       18.151787       38.114291  \n",
            "223                     206         296667        1.251120     1644.202836  \n",
            "224                     357         224905        2.209107     1617.448193  \n",
            "\n",
            "[225 rows x 12 columns]\n"
          ]
        }
      ]
    },
    {
      "cell_type": "code",
      "source": [
        "print(df.isnull().sum())\n"
      ],
      "metadata": {
        "colab": {
          "base_uri": "https://localhost:8080/"
        },
        "id": "h0WauQmioEaD",
        "outputId": "4f997bde-1006-4291-8cfb-e71e2cd69559"
      },
      "execution_count": 6,
      "outputs": [
        {
          "output_type": "stream",
          "name": "stdout",
          "text": [
            "Country                    0\n",
            "Other names                1\n",
            "ISO 3166-1 alpha-3 CODE    0\n",
            "Population                 0\n",
            "Continent                  0\n",
            "Confirmed Case             0\n",
            "Total Deaths               0\n",
            " Total Active Case         0\n",
            "Total Active deathCase     0\n",
            "Recovery Case              0\n",
            "Mortality Rate             0\n",
            "Infection Rate             0\n",
            "dtype: int64\n"
          ]
        }
      ]
    },
    {
      "cell_type": "code",
      "source": [
        "df.fillna(0, inplace=True)  # Replace NaN with 0\n"
      ],
      "metadata": {
        "id": "ydFS7l7ioHoh"
      },
      "execution_count": 7,
      "outputs": []
    },
    {
      "cell_type": "code",
      "source": [
        "print(df.columns)\n",
        "\n"
      ],
      "metadata": {
        "colab": {
          "base_uri": "https://localhost:8080/"
        },
        "id": "2EMXdjcqoN6D",
        "outputId": "1787c524-fe12-4b4e-d72c-4ad26aa03f67"
      },
      "execution_count": 9,
      "outputs": [
        {
          "output_type": "stream",
          "name": "stdout",
          "text": [
            "Index(['Country', 'Other names', 'ISO 3166-1 alpha-3 CODE', 'Population',\n",
            "       'Continent', 'Confirmed Case', 'Total Deaths', ' Total Active Case',\n",
            "       'Total Active deathCase', 'Recovery Case', 'Mortality Rate',\n",
            "       'Infection Rate'],\n",
            "      dtype='object')\n"
          ]
        }
      ]
    },
    {
      "cell_type": "code",
      "source": [
        "top_countries = df.groupby('Country')['Total Deaths'].sum().sort_values(ascending=False).head(10)\n",
        "print(top_countries)\n"
      ],
      "metadata": {
        "colab": {
          "base_uri": "https://localhost:8080/"
        },
        "id": "lHrwAUIDoWDy",
        "outputId": "25b52a1c-f55f-4ca7-ed4a-07e33eef63b8"
      },
      "execution_count": 8,
      "outputs": [
        {
          "output_type": "stream",
          "name": "stdout",
          "text": [
            "Country\n",
            "USA          1008222\n",
            "Brazil        660269\n",
            "India         521388\n",
            "Russia        369708\n",
            "Mexico        323212\n",
            "Peru          212328\n",
            "UK            165570\n",
            "Italy         159784\n",
            "Indonesia     155288\n",
            "France        142506\n",
            "Name: Total Deaths, dtype: int64\n"
          ]
        }
      ]
    },
    {
      "cell_type": "code",
      "source": [
        "countries = ['USA','Brazil' 'India', 'Russia', 'Mexico', 'peru', 'UK' 'intaly', 'Indonesia', 'France']\n",
        "cases = [1008222, 660269, 521388, 369708, 323212, 212328, 165570, 159784, 155288,142506 ]\n",
        "plt.figure(figsize=(10, 6))\n",
        "bars= top_countries.plot(kind='bar', color='red')\n",
        "for bar in bars.patches:\n",
        "    height = bar.get_height()\n",
        "plt.text(bar.get_x() + bar.get_width() / 2, height,\n",
        "         # Position of text\n",
        "f'{height:,}',  # Text (formatted with commas)\n",
        "ha='center', va='bottom', fontsize=10, color='black')\n",
        "plt.xticks(rotation=45)\n",
        "plt.title('Top 10 Countries of Confirmed Cases')\n",
        "plt.ylabel('confirmed cases')\n",
        "plt.xlabel('total death')\n",
        "plt.show()\n",
        "\n"
      ],
      "metadata": {
        "colab": {
          "base_uri": "https://localhost:8080/",
          "height": 607
        },
        "id": "r6qmGPzOo-cN",
        "outputId": "15c2d8a9-7429-400a-f795-61b246c82499"
      },
      "execution_count": 10,
      "outputs": [
        {
          "output_type": "display_data",
          "data": {
            "text/plain": [
              "<Figure size 1000x600 with 1 Axes>"
            ],
            "image/png": "[encoded data removed]"
          },
          "metadata": {}
        }
      ]
    },
    {
      "cell_type": "code",
      "source": [
        "import matplotlib.pyplot as plt\n",
        "import pandas as pd\n",
        "\n",
        "# Sample data for Recovery_cases (replace with actual data)\n",
        "Recovery_cases = pd.Series([165761, 175029, 252944], index=['A', 'B', 'C'])\n",
        "\n",
        "# Create figure\n",
        "plt.figure(figsize=(8, 8))\n",
        "\n",
        "# Plot donut chart\n",
        "wedges, texts, autotexts = plt.pie(Recovery_cases, labels=Recovery_cases.index, autopct='%1.1f%%', colors=['#ff9999','#66b3ff','#99ff99'], startangle=90, wedgeprops={'linewidth': 1, 'edgecolor': 'white'})\n",
        "\n",
        "# Draw a circle at the center to create the 'donut' effect\n",
        "centre_circle = plt.Circle((0,0),0.70,fc='white')\n",
        "plt.gca().add_artist(centre_circle)\n",
        "\n",
        "# Title\n",
        "plt.title('Recovery Cases')\n",
        "\n",
        "# Display the chart\n",
        "plt.show()\n",
        "\n"
      ],
      "metadata": {
        "colab": {
          "base_uri": "https://localhost:8080/",
          "height": 675
        },
        "id": "bv2enRojcQAr",
        "outputId": "20d3ea0d-d9c7-444e-9f84-4607fdb46e03"
      },
      "execution_count": 11,
      "outputs": [
        {
          "output_type": "display_data",
          "data": {
            "text/plain": [
              "<Figure size 800x800 with 1 Axes>"
            ],
            "image/png": "[encoded data removed]"
          },
          "metadata": {}
        }
      ]
    },
    {
      "cell_type": "code",
      "source": [
        "\n",
        "# Sample DataFrame with extra spaces in column names\n",
        "data = {'  Date ': ['2021-03-01', '2021-03-02'],\n",
        "        ' Country ': ['India', 'USA'],\n",
        "        ' Confirmed ': [1000, 2000],\n",
        "        ' Deaths': [50, 70]}\n",
        "\n",
        "df = pd.DataFrame(data)\n",
        "\n",
        "print(\"Before stripping:\")\n",
        "print(df.columns)\n",
        "\n",
        "# Remove whitespace from column names\n",
        "df.columns = df.columns.str.strip()\n",
        "\n",
        "print(\"\\nAfter stripping:\")\n",
        "print(df.columns)\n"
      ],
      "metadata": {
        "colab": {
          "base_uri": "https://localhost:8080/"
        },
        "id": "yEC2W00Zl65T",
        "outputId": "f4cff88c-6b92-4329-b6f6-1aa09fc10814"
      },
      "execution_count": 12,
      "outputs": [
        {
          "output_type": "stream",
          "name": "stdout",
          "text": [
            "Before stripping:\n",
            "Index(['  Date ', ' Country ', ' Confirmed ', ' Deaths'], dtype='object')\n",
            "\n",
            "After stripping:\n",
            "Index(['Date', 'Country', 'Confirmed', 'Deaths'], dtype='object')\n"
          ]
        }
      ]
    },
    {
      "cell_type": "code",
      "source": [
        "print((df.isnull().sum() / len(df)) * 100)\n",
        "\n"
      ],
      "metadata": {
        "colab": {
          "base_uri": "https://localhost:8080/"
        },
        "id": "yBoYB3rXmDHu",
        "outputId": "e246f9a3-2b21-4a86-adfd-bf0559bff7ea"
      },
      "execution_count": 13,
      "outputs": [
        {
          "output_type": "stream",
          "name": "stdout",
          "text": [
            "Date         0.0\n",
            "Country      0.0\n",
            "Confirmed    0.0\n",
            "Deaths       0.0\n",
            "dtype: float64\n"
          ]
        }
      ]
    },
    {
      "cell_type": "code",
      "source": [
        "df.columns = df.columns.str.strip()  # Remove whitespace\n",
        "print(df.columns)\n"
      ],
      "metadata": {
        "colab": {
          "base_uri": "https://localhost:8080/"
        },
        "id": "yljIW_Q3pg0K",
        "outputId": "c5ff4c85-7440-422d-a181-4c149f979db3"
      },
      "execution_count": null,
      "outputs": [
        {
          "output_type": "stream",
          "name": "stdout",
          "text": [
            "Index(['Date', 'Country', 'Confirmed', 'Deaths'], dtype='object')\n"
          ]
        }
      ]
    },
    {
      "cell_type": "code",
      "source": [
        "print(df.isnull().sum()[df.isnull().sum() > 0])\n"
      ],
      "metadata": {
        "colab": {
          "base_uri": "https://localhost:8080/"
        },
        "id": "gxIEzZ9bmTAx",
        "outputId": "1406a7c1-be7f-479b-a4e4-ce5743bcc0de"
      },
      "execution_count": 14,
      "outputs": [
        {
          "output_type": "stream",
          "name": "stdout",
          "text": [
            "Series([], dtype: int64)\n"
          ]
        }
      ]
    },
    {
      "cell_type": "code",
      "source": [
        "print(df.head())\n"
      ],
      "metadata": {
        "colab": {
          "base_uri": "https://localhost:8080/"
        },
        "id": "8zfJ1OmurkYk",
        "outputId": "a177a4d5-039a-46dd-bf6b-d3b4f1db95f7"
      },
      "execution_count": 15,
      "outputs": [
        {
          "output_type": "stream",
          "name": "stdout",
          "text": [
            "         Date Country  Confirmed  Deaths\n",
            "0  2021-03-01   India       1000      50\n",
            "1  2021-03-02     USA       2000      70\n"
          ]
        }
      ]
    },
    {
      "cell_type": "code",
      "source": [
        "import difflib\n",
        "\n",
        "search_term = 'Case'\n",
        "print(f\"Closest match to '{search_term}': {difflib.get_close_matches(search_term, df.columns)}\")\n"
      ],
      "metadata": {
        "colab": {
          "base_uri": "https://localhost:8080/"
        },
        "id": "3nr4xqFBrqYy",
        "outputId": "1749e87e-4967-4c53-b08f-489fef55ba48"
      },
      "execution_count": 16,
      "outputs": [
        {
          "output_type": "stream",
          "name": "stdout",
          "text": [
            "Closest match to 'Case': []\n"
          ]
        }
      ]
    },
    {
      "cell_type": "code",
      "source": [
        "# Check for missing values\n",
        "print(df.isnull().sum())\n",
        "\n",
        "# Drop rows or columns with missing values (if applicable)\n",
        "df = df.dropna()\n",
        "\n",
        "# Alternatively, fill missing values with a specific value\n",
        "df = df.fillna(value={'column_name': 'value_to_fill'})\n",
        "\n",
        "# Display the cleaned data\n",
        "print(df.head())\n"
      ],
      "metadata": {
        "colab": {
          "base_uri": "https://localhost:8080/"
        },
        "id": "3dQ6IZ4btdgx",
        "outputId": "9bcd04c1-0dae-4f0f-9344-0304fa82610f"
      },
      "execution_count": 17,
      "outputs": [
        {
          "output_type": "stream",
          "name": "stdout",
          "text": [
            "Date         0\n",
            "Country      0\n",
            "Confirmed    0\n",
            "Deaths       0\n",
            "dtype: int64\n",
            "         Date Country  Confirmed  Deaths\n",
            "0  2021-03-01   India       1000      50\n",
            "1  2021-03-02     USA       2000      70\n"
          ]
        }
      ]
    },
    {
      "cell_type": "code",
      "source": [
        "df.columns = df.columns.str.strip()\n",
        "df.columns = df.columns.str.replace(' ', '-')\n",
        "print(df.columns)"
      ],
      "metadata": {
        "colab": {
          "base_uri": "https://localhost:8080/"
        },
        "id": "Jtq9xYekyzbT",
        "outputId": "1e1889f0-2dfa-4e73-ada1-79ce45739bdb"
      },
      "execution_count": 18,
      "outputs": [
        {
          "output_type": "stream",
          "name": "stdout",
          "text": [
            "Index(['Date', 'Country', 'Confirmed', 'Deaths'], dtype='object')\n"
          ]
        }
      ]
    },
    {
      "cell_type": "code",
      "source": [
        "df.head(7)"
      ],
      "metadata": {
        "colab": {
          "base_uri": "https://localhost:8080/",
          "height": 112
        },
        "id": "Bm7rh3RHykxY",
        "outputId": "266e16f1-9fc3-442b-b879-0ae0050e6073"
      },
      "execution_count": 19,
      "outputs": [
        {
          "output_type": "execute_result",
          "data": {
            "text/plain": [
              "         Date Country  Confirmed  Deaths\n",
              "0  2021-03-01   India       1000      50\n",
              "1  2021-03-02     USA       2000      70"
            ],
            "text/html": [
              "\n",
              "  <div id=\"df-2fa46967-8770-4f14-a816-acd94f18ad72\" class=\"colab-df-container\">\n",
              "    <div>\n",
              "<style scoped>\n",
              "    .dataframe tbody tr th:only-of-type {\n",
              "        vertical-align: middle;\n",
              "    }\n",
              "\n",
              "    .dataframe tbody tr th {\n",
              "        vertical-align: top;\n",
              "    }\n",
              "\n",
              "    .dataframe thead th {\n",
              "        text-align: right;\n",
              "    }\n",
              "</style>\n",
              "<table border=\"1\" class=\"dataframe\">\n",
              "  <thead>\n",
              "    <tr style=\"text-align: right;\">\n",
              "      <th></th>\n",
              "      <th>Date</th>\n",
              "      <th>Country</th>\n",
              "      <th>Confirmed</th>\n",
              "      <th>Deaths</th>\n",
              "    </tr>\n",
              "  </thead>\n",
              "  <tbody>\n",
              "    <tr>\n",
              "      <th>0</th>\n",
              "      <td>2021-03-01</td>\n",
              "      <td>India</td>\n",
              "      <td>1000</td>\n",
              "      <td>50</td>\n",
              "    </tr>\n",
              "    <tr>\n",
              "      <th>1</th>\n",
              "      <td>2021-03-02</td>\n",
              "      <td>USA</td>\n",
              "      <td>2000</td>\n",
              "      <td>70</td>\n",
              "    </tr>\n",
              "  </tbody>\n",
              "</table>\n",
              "</div>\n",
              "    <div class=\"colab-df-buttons\">\n",
              "\n",
              "  <div class=\"colab-df-container\">\n",
              "    <button class=\"colab-df-convert\" onclick=\"convertToInteractive('df-2fa46967-8770-4f14-a816-acd94f18ad72')\"\n",
              "            title=\"Convert this dataframe to an interactive table.\"\n",
              "            style=\"display:none;\">\n",
              "\n",
              "  <svg xmlns=\"http://www.w3.org/2000/svg\" height=\"24px\" viewBox=\"0 -960 960 960\">\n",
              "    <path d=\"M120-120v-720h720v720H120Zm60-500h600v-160H180v160Zm220 220h160v-160H400v160Zm0 220h160v-160H400v160ZM180-400h160v-160H180v160Zm440 0h160v-160H620v160ZM180-180h160v-160H180v160Zm440 0h160v-160H620v160Z\"/>\n",
              "  </svg>\n",
              "    </button>\n",
              "\n",
              "  <style>\n",
              "    .colab-df-container {\n",
              "      display:flex;\n",
              "      gap: 12px;\n",
              "    }\n",
              "\n",
              "    .colab-df-convert {\n",
              "      background-color: #E8F0FE;\n",
              "      border: none;\n",
              "      border-radius: 50%;\n",
              "      cursor: pointer;\n",
              "      display: none;\n",
              "      fill: #1967D2;\n",
              "      height: 32px;\n",
              "      padding: 0 0 0 0;\n",
              "      width: 32px;\n",
              "    }\n",
              "\n",
              "    .colab-df-convert:hover {\n",
              "      background-color: #E2EBFA;\n",
              "      box-shadow: 0px 1px 2px rgba(60, 64, 67, 0.3), 0px 1px 3px 1px rgba(60, 64, 67, 0.15);\n",
              "      fill: #174EA6;\n",
              "    }\n",
              "\n",
              "    .colab-df-buttons div {\n",
              "      margin-bottom: 4px;\n",
              "    }\n",
              "\n",
              "    [theme=dark] .colab-df-convert {\n",
              "      background-color: #3B4455;\n",
              "      fill: #D2E3FC;\n",
              "    }\n",
              "\n",
              "    [theme=dark] .colab-df-convert:hover {\n",
              "      background-color: #434B5C;\n",
              "      box-shadow: 0px 1px 3px 1px rgba(0, 0, 0, 0.15);\n",
              "      filter: drop-shadow(0px 1px 2px rgba(0, 0, 0, 0.3));\n",
              "      fill: #FFFFFF;\n",
              "    }\n",
              "  </style>\n",
              "\n",
              "    <script>\n",
              "      const buttonEl =\n",
              "        document.querySelector('#df-2fa46967-8770-4f14-a816-acd94f18ad72 button.colab-df-convert');\n",
              "      buttonEl.style.display =\n",
              "        google.colab.kernel.accessAllowed ? 'block' : 'none';\n",
              "\n",
              "      async function convertToInteractive(key) {\n",
              "        const element = document.querySelector('#df-2fa46967-8770-4f14-a816-acd94f18ad72');\n",
              "        const dataTable =\n",
              "          await google.colab.kernel.invokeFunction('convertToInteractive',\n",
              "                                                    [key], {});\n",
              "        if (!dataTable) return;\n",
              "\n",
              "        const docLinkHtml = 'Like what you see? Visit the ' +\n",
              "          '<a target=\"_blank\" href=https://colab.research.google.com/notebooks/data_table.ipynb>data table notebook</a>'\n",
              "          + ' to learn more about interactive tables.';\n",
              "        element.innerHTML = '';\n",
              "        dataTable['output_type'] = 'display_data';\n",
              "        await google.colab.output.renderOutput(dataTable, element);\n",
              "        const docLink = document.createElement('div');\n",
              "        docLink.innerHTML = docLinkHtml;\n",
              "        element.appendChild(docLink);\n",
              "      }\n",
              "    </script>\n",
              "  </div>\n",
              "\n",
              "\n",
              "<div id=\"df-dd5b82b6-7fcc-49a3-aba7-3ecb52bdd8df\">\n",
              "  <button class=\"colab-df-quickchart\" onclick=\"quickchart('df-dd5b82b6-7fcc-49a3-aba7-3ecb52bdd8df')\"\n",
              "            title=\"Suggest charts\"\n",
              "            style=\"display:none;\">\n",
              "\n",
              "<svg xmlns=\"http://www.w3.org/2000/svg\" height=\"24px\"viewBox=\"0 0 24 24\"\n",
              "     width=\"24px\">\n",
              "    <g>\n",
              "        <path d=\"M19 3H5c-1.1 0-2 .9-2 2v14c0 1.1.9 2 2 2h14c1.1 0 2-.9 2-2V5c0-1.1-.9-2-2-2zM9 17H7v-7h2v7zm4 0h-2V7h2v10zm4 0h-2v-4h2v4z\"/>\n",
              "    </g>\n",
              "</svg>\n",
              "  </button>\n",
              "\n",
              "<style>\n",
              "  .colab-df-quickchart {\n",
              "      --bg-color: #E8F0FE;\n",
              "      --fill-color: #1967D2;\n",
              "      --hover-bg-color: #E2EBFA;\n",
              "      --hover-fill-color: #174EA6;\n",
              "      --disabled-fill-color: #AAA;\n",
              "      --disabled-bg-color: #DDD;\n",
              "  }\n",
              "\n",
              "  [theme=dark] .colab-df-quickchart {\n",
              "      --bg-color: #3B4455;\n",
              "      --fill-color: #D2E3FC;\n",
              "      --hover-bg-color: #434B5C;\n",
              "      --hover-fill-color: #FFFFFF;\n",
              "      --disabled-bg-color: #3B4455;\n",
              "      --disabled-fill-color: #666;\n",
              "  }\n",
              "\n",
              "  .colab-df-quickchart {\n",
              "    background-color: var(--bg-color);\n",
              "    border: none;\n",
              "    border-radius: 50%;\n",
              "    cursor: pointer;\n",
              "    display: none;\n",
              "    fill: var(--fill-color);\n",
              "    height: 32px;\n",
              "    padding: 0;\n",
              "    width: 32px;\n",
              "  }\n",
              "\n",
              "  .colab-df-quickchart:hover {\n",
              "    background-color: var(--hover-bg-color);\n",
              "    box-shadow: 0 1px 2px rgba(60, 64, 67, 0.3), 0 1px 3px 1px rgba(60, 64, 67, 0.15);\n",
              "    fill: var(--button-hover-fill-color);\n",
              "  }\n",
              "\n",
              "  .colab-df-quickchart-complete:disabled,\n",
              "  .colab-df-quickchart-complete:disabled:hover {\n",
              "    background-color: var(--disabled-bg-color);\n",
              "    fill: var(--disabled-fill-color);\n",
              "    box-shadow: none;\n",
              "  }\n",
              "\n",
              "  .colab-df-spinner {\n",
              "    border: 2px solid var(--fill-color);\n",
              "    border-color: transparent;\n",
              "    border-bottom-color: var(--fill-color);\n",
              "    animation:\n",
              "      spin 1s steps(1) infinite;\n",
              "  }\n",
              "\n",
              "  @keyframes spin {\n",
              "    0% {\n",
              "      border-color: transparent;\n",
              "      border-bottom-color: var(--fill-color);\n",
              "      border-left-color: var(--fill-color);\n",
              "    }\n",
              "    20% {\n",
              "      border-color: transparent;\n",
              "      border-left-color: var(--fill-color);\n",
              "      border-top-color: var(--fill-color);\n",
              "    }\n",
              "    30% {\n",
              "      border-color: transparent;\n",
              "      border-left-color: var(--fill-color);\n",
              "      border-top-color: var(--fill-color);\n",
              "      border-right-color: var(--fill-color);\n",
              "    }\n",
              "    40% {\n",
              "      border-color: transparent;\n",
              "      border-right-color: var(--fill-color);\n",
              "      border-top-color: var(--fill-color);\n",
              "    }\n",
              "    60% {\n",
              "      border-color: transparent;\n",
              "      border-right-color: var(--fill-color);\n",
              "    }\n",
              "    80% {\n",
              "      border-color: transparent;\n",
              "      border-right-color: var(--fill-color);\n",
              "      border-bottom-color: var(--fill-color);\n",
              "    }\n",
              "    90% {\n",
              "      border-color: transparent;\n",
              "      border-bottom-color: var(--fill-color);\n",
              "    }\n",
              "  }\n",
              "</style>\n",
              "\n",
              "  <script>\n",
              "    async function quickchart(key) {\n",
              "      const quickchartButtonEl =\n",
              "        document.querySelector('#' + key + ' button');\n",
              "      quickchartButtonEl.disabled = true;  // To prevent multiple clicks.\n",
              "      quickchartButtonEl.classList.add('colab-df-spinner');\n",
              "      try {\n",
              "        const charts = await google.colab.kernel.invokeFunction(\n",
              "            'suggestCharts', [key], {});\n",
              "      } catch (error) {\n",
              "        console.error('Error during call to suggestCharts:', error);\n",
              "      }\n",
              "      quickchartButtonEl.classList.remove('colab-df-spinner');\n",
              "      quickchartButtonEl.classList.add('colab-df-quickchart-complete');\n",
              "    }\n",
              "    (() => {\n",
              "      let quickchartButtonEl =\n",
              "        document.querySelector('#df-dd5b82b6-7fcc-49a3-aba7-3ecb52bdd8df button');\n",
              "      quickchartButtonEl.style.display =\n",
              "        google.colab.kernel.accessAllowed ? 'block' : 'none';\n",
              "    })();\n",
              "  </script>\n",
              "</div>\n",
              "\n",
              "    </div>\n",
              "  </div>\n"
            ],
            "application/vnd.google.colaboratory.intrinsic+json": {
              "type": "dataframe",
              "variable_name": "df",
              "summary": "{\n  \"name\": \"df\",\n  \"rows\": 2,\n  \"fields\": [\n    {\n      \"column\": \"Date\",\n      \"properties\": {\n        \"dtype\": \"object\",\n        \"num_unique_values\": 2,\n        \"samples\": [\n          \"2021-03-02\",\n          \"2021-03-01\"\n        ],\n        \"semantic_type\": \"\",\n        \"description\": \"\"\n      }\n    },\n    {\n      \"column\": \"Country\",\n      \"properties\": {\n        \"dtype\": \"string\",\n        \"num_unique_values\": 2,\n        \"samples\": [\n          \"USA\",\n          \"India\"\n        ],\n        \"semantic_type\": \"\",\n        \"description\": \"\"\n      }\n    },\n    {\n      \"column\": \"Confirmed\",\n      \"properties\": {\n        \"dtype\": \"number\",\n        \"std\": 707,\n        \"min\": 1000,\n        \"max\": 2000,\n        \"num_unique_values\": 2,\n        \"samples\": [\n          2000,\n          1000\n        ],\n        \"semantic_type\": \"\",\n        \"description\": \"\"\n      }\n    },\n    {\n      \"column\": \"Deaths\",\n      \"properties\": {\n        \"dtype\": \"number\",\n        \"std\": 14,\n        \"min\": 50,\n        \"max\": 70,\n        \"num_unique_values\": 2,\n        \"samples\": [\n          70,\n          50\n        ],\n        \"semantic_type\": \"\",\n        \"description\": \"\"\n      }\n    }\n  ]\n}"
            }
          },
          "metadata": {},
          "execution_count": 19
        }
      ]
    },
    {
      "cell_type": "markdown",
      "source": [
        "Load the data"
      ],
      "metadata": {
        "id": "6CVsfG7ltU1i"
      }
    },
    {
      "cell_type": "code",
      "source": [
        "india = pd.read_csv('/content/COVID-19 India Statewise Vaccine Data.csv')\n",
        "india.head(5)"
      ],
      "metadata": {
        "colab": {
          "base_uri": "https://localhost:8080/",
          "height": 241
        },
        "id": "RgxuSFu8rM3h",
        "outputId": "d2b95a1e-7785-47c3-c56f-595206617f5d"
      },
      "execution_count": 20,
      "outputs": [
        {
          "output_type": "execute_result",
          "data": {
            "text/plain": [
              "             State/UTs  Total Vaccination Doses     Dose1    Dose 2  \\\n",
              "0  Andaman And Nicobar                   991264    313284    320383   \n",
              "1       Andhra Pradesh                110957430  40645695  43555744   \n",
              "2    Arunachal Pradesh                  1924584    861396    748505   \n",
              "3                Assam                 50335778  22550941  20575569   \n",
              "4                Bihar                157293015  62956601  59160917   \n",
              "\n",
              "   Dose 1 15-18  Dose 2 15-18  Dose 1 12-14  Dose 2 12-14  Precaution 18-59  \\\n",
              "0         19208         18860         15124         14042            236936   \n",
              "1       2535344       2527613       1523375       1495445          12054868   \n",
              "2         59100         44869         40852         28445             81191   \n",
              "3       1262520        972402        999552        602283           2108179   \n",
              "4       6240650       5348480       4288630       3403195          12022637   \n",
              "\n",
              "   Population  \n",
              "0      399001  \n",
              "1    91702478  \n",
              "2     1711947  \n",
              "3    35998752  \n",
              "4   128500364  "
            ],
            "text/html": [
              "\n",
              "  <div id=\"df-721693f6-e542-41f6-99df-f6b74b5349d0\" class=\"colab-df-container\">\n",
              "    <div>\n",
              "<style scoped>\n",
              "    .dataframe tbody tr th:only-of-type {\n",
              "        vertical-align: middle;\n",
              "    }\n",
              "\n",
              "    .dataframe tbody tr th {\n",
              "        vertical-align: top;\n",
              "    }\n",
              "\n",
              "    .dataframe thead th {\n",
              "        text-align: right;\n",
              "    }\n",
              "</style>\n",
              "<table border=\"1\" class=\"dataframe\">\n",
              "  <thead>\n",
              "    <tr style=\"text-align: right;\">\n",
              "      <th></th>\n",
              "      <th>State/UTs</th>\n",
              "      <th>Total Vaccination Doses</th>\n",
              "      <th>Dose1</th>\n",
              "      <th>Dose 2</th>\n",
              "      <th>Dose 1 15-18</th>\n",
              "      <th>Dose 2 15-18</th>\n",
              "      <th>Dose 1 12-14</th>\n",
              "      <th>Dose 2 12-14</th>\n",
              "      <th>Precaution 18-59</th>\n",
              "      <th>Population</th>\n",
              "    </tr>\n",
              "  </thead>\n",
              "  <tbody>\n",
              "    <tr>\n",
              "      <th>0</th>\n",
              "      <td>Andaman And Nicobar</td>\n",
              "      <td>991264</td>\n",
              "      <td>313284</td>\n",
              "      <td>320383</td>\n",
              "      <td>19208</td>\n",
              "      <td>18860</td>\n",
              "      <td>15124</td>\n",
              "      <td>14042</td>\n",
              "      <td>236936</td>\n",
              "      <td>399001</td>\n",
              "    </tr>\n",
              "    <tr>\n",
              "      <th>1</th>\n",
              "      <td>Andhra Pradesh</td>\n",
              "      <td>110957430</td>\n",
              "      <td>40645695</td>\n",
              "      <td>43555744</td>\n",
              "      <td>2535344</td>\n",
              "      <td>2527613</td>\n",
              "      <td>1523375</td>\n",
              "      <td>1495445</td>\n",
              "      <td>12054868</td>\n",
              "      <td>91702478</td>\n",
              "    </tr>\n",
              "    <tr>\n",
              "      <th>2</th>\n",
              "      <td>Arunachal Pradesh</td>\n",
              "      <td>1924584</td>\n",
              "      <td>861396</td>\n",
              "      <td>748505</td>\n",
              "      <td>59100</td>\n",
              "      <td>44869</td>\n",
              "      <td>40852</td>\n",
              "      <td>28445</td>\n",
              "      <td>81191</td>\n",
              "      <td>1711947</td>\n",
              "    </tr>\n",
              "    <tr>\n",
              "      <th>3</th>\n",
              "      <td>Assam</td>\n",
              "      <td>50335778</td>\n",
              "      <td>22550941</td>\n",
              "      <td>20575569</td>\n",
              "      <td>1262520</td>\n",
              "      <td>972402</td>\n",
              "      <td>999552</td>\n",
              "      <td>602283</td>\n",
              "      <td>2108179</td>\n",
              "      <td>35998752</td>\n",
              "    </tr>\n",
              "    <tr>\n",
              "      <th>4</th>\n",
              "      <td>Bihar</td>\n",
              "      <td>157293015</td>\n",
              "      <td>62956601</td>\n",
              "      <td>59160917</td>\n",
              "      <td>6240650</td>\n",
              "      <td>5348480</td>\n",
              "      <td>4288630</td>\n",
              "      <td>3403195</td>\n",
              "      <td>12022637</td>\n",
              "      <td>128500364</td>\n",
              "    </tr>\n",
              "  </tbody>\n",
              "</table>\n",
              "</div>\n",
              "    <div class=\"colab-df-buttons\">\n",
              "\n",
              "  <div class=\"colab-df-container\">\n",
              "    <button class=\"colab-df-convert\" onclick=\"convertToInteractive('df-721693f6-e542-41f6-99df-f6b74b5349d0')\"\n",
              "            title=\"Convert this dataframe to an interactive table.\"\n",
              "            style=\"display:none;\">\n",
              "\n",
              "  <svg xmlns=\"http://www.w3.org/2000/svg\" height=\"24px\" viewBox=\"0 -960 960 960\">\n",
              "    <path d=\"M120-120v-720h720v720H120Zm60-500h600v-160H180v160Zm220 220h160v-160H400v160Zm0 220h160v-160H400v160ZM180-400h160v-160H180v160Zm440 0h160v-160H620v160ZM180-180h160v-160H180v160Zm440 0h160v-160H620v160Z\"/>\n",
              "  </svg>\n",
              "    </button>\n",
              "\n",
              "  <style>\n",
              "    .colab-df-container {\n",
              "      display:flex;\n",
              "      gap: 12px;\n",
              "    }\n",
              "\n",
              "    .colab-df-convert {\n",
              "      background-color: #E8F0FE;\n",
              "      border: none;\n",
              "      border-radius: 50%;\n",
              "      cursor: pointer;\n",
              "      display: none;\n",
              "      fill: #1967D2;\n",
              "      height: 32px;\n",
              "      padding: 0 0 0 0;\n",
              "      width: 32px;\n",
              "    }\n",
              "\n",
              "    .colab-df-convert:hover {\n",
              "      background-color: #E2EBFA;\n",
              "      box-shadow: 0px 1px 2px rgba(60, 64, 67, 0.3), 0px 1px 3px 1px rgba(60, 64, 67, 0.15);\n",
              "      fill: #174EA6;\n",
              "    }\n",
              "\n",
              "    .colab-df-buttons div {\n",
              "      margin-bottom: 4px;\n",
              "    }\n",
              "\n",
              "    [theme=dark] .colab-df-convert {\n",
              "      background-color: #3B4455;\n",
              "      fill: #D2E3FC;\n",
              "    }\n",
              "\n",
              "    [theme=dark] .colab-df-convert:hover {\n",
              "      background-color: #434B5C;\n",
              "      box-shadow: 0px 1px 3px 1px rgba(0, 0, 0, 0.15);\n",
              "      filter: drop-shadow(0px 1px 2px rgba(0, 0, 0, 0.3));\n",
              "      fill: #FFFFFF;\n",
              "    }\n",
              "  </style>\n",
              "\n",
              "    <script>\n",
              "      const buttonEl =\n",
              "        document.querySelector('#df-721693f6-e542-41f6-99df-f6b74b5349d0 button.colab-df-convert');\n",
              "      buttonEl.style.display =\n",
              "        google.colab.kernel.accessAllowed ? 'block' : 'none';\n",
              "\n",
              "      async function convertToInteractive(key) {\n",
              "        const element = document.querySelector('#df-721693f6-e542-41f6-99df-f6b74b5349d0');\n",
              "        const dataTable =\n",
              "          await google.colab.kernel.invokeFunction('convertToInteractive',\n",
              "                                                    [key], {});\n",
              "        if (!dataTable) return;\n",
              "\n",
              "        const docLinkHtml = 'Like what you see? Visit the ' +\n",
              "          '<a target=\"_blank\" href=https://colab.research.google.com/notebooks/data_table.ipynb>data table notebook</a>'\n",
              "          + ' to learn more about interactive tables.';\n",
              "        element.innerHTML = '';\n",
              "        dataTable['output_type'] = 'display_data';\n",
              "        await google.colab.output.renderOutput(dataTable, element);\n",
              "        const docLink = document.createElement('div');\n",
              "        docLink.innerHTML = docLinkHtml;\n",
              "        element.appendChild(docLink);\n",
              "      }\n",
              "    </script>\n",
              "  </div>\n",
              "\n",
              "\n",
              "<div id=\"df-a2419c61-3238-45d6-81bc-d7269eb9d325\">\n",
              "  <button class=\"colab-df-quickchart\" onclick=\"quickchart('df-a2419c61-3238-45d6-81bc-d7269eb9d325')\"\n",
              "            title=\"Suggest charts\"\n",
              "            style=\"display:none;\">\n",
              "\n",
              "<svg xmlns=\"http://www.w3.org/2000/svg\" height=\"24px\"viewBox=\"0 0 24 24\"\n",
              "     width=\"24px\">\n",
              "    <g>\n",
              "        <path d=\"M19 3H5c-1.1 0-2 .9-2 2v14c0 1.1.9 2 2 2h14c1.1 0 2-.9 2-2V5c0-1.1-.9-2-2-2zM9 17H7v-7h2v7zm4 0h-2V7h2v10zm4 0h-2v-4h2v4z\"/>\n",
              "    </g>\n",
              "</svg>\n",
              "  </button>\n",
              "\n",
              "<style>\n",
              "  .colab-df-quickchart {\n",
              "      --bg-color: #E8F0FE;\n",
              "      --fill-color: #1967D2;\n",
              "      --hover-bg-color: #E2EBFA;\n",
              "      --hover-fill-color: #174EA6;\n",
              "      --disabled-fill-color: #AAA;\n",
              "      --disabled-bg-color: #DDD;\n",
              "  }\n",
              "\n",
              "  [theme=dark] .colab-df-quickchart {\n",
              "      --bg-color: #3B4455;\n",
              "      --fill-color: #D2E3FC;\n",
              "      --hover-bg-color: #434B5C;\n",
              "      --hover-fill-color: #FFFFFF;\n",
              "      --disabled-bg-color: #3B4455;\n",
              "      --disabled-fill-color: #666;\n",
              "  }\n",
              "\n",
              "  .colab-df-quickchart {\n",
              "    background-color: var(--bg-color);\n",
              "    border: none;\n",
              "    border-radius: 50%;\n",
              "    cursor: pointer;\n",
              "    display: none;\n",
              "    fill: var(--fill-color);\n",
              "    height: 32px;\n",
              "    padding: 0;\n",
              "    width: 32px;\n",
              "  }\n",
              "\n",
              "  .colab-df-quickchart:hover {\n",
              "    background-color: var(--hover-bg-color);\n",
              "    box-shadow: 0 1px 2px rgba(60, 64, 67, 0.3), 0 1px 3px 1px rgba(60, 64, 67, 0.15);\n",
              "    fill: var(--button-hover-fill-color);\n",
              "  }\n",
              "\n",
              "  .colab-df-quickchart-complete:disabled,\n",
              "  .colab-df-quickchart-complete:disabled:hover {\n",
              "    background-color: var(--disabled-bg-color);\n",
              "    fill: var(--disabled-fill-color);\n",
              "    box-shadow: none;\n",
              "  }\n",
              "\n",
              "  .colab-df-spinner {\n",
              "    border: 2px solid var(--fill-color);\n",
              "    border-color: transparent;\n",
              "    border-bottom-color: var(--fill-color);\n",
              "    animation:\n",
              "      spin 1s steps(1) infinite;\n",
              "  }\n",
              "\n",
              "  @keyframes spin {\n",
              "    0% {\n",
              "      border-color: transparent;\n",
              "      border-bottom-color: var(--fill-color);\n",
              "      border-left-color: var(--fill-color);\n",
              "    }\n",
              "    20% {\n",
              "      border-color: transparent;\n",
              "      border-left-color: var(--fill-color);\n",
              "      border-top-color: var(--fill-color);\n",
              "    }\n",
              "    30% {\n",
              "      border-color: transparent;\n",
              "      border-left-color: var(--fill-color);\n",
              "      border-top-color: var(--fill-color);\n",
              "      border-right-color: var(--fill-color);\n",
              "    }\n",
              "    40% {\n",
              "      border-color: transparent;\n",
              "      border-right-color: var(--fill-color);\n",
              "      border-top-color: var(--fill-color);\n",
              "    }\n",
              "    60% {\n",
              "      border-color: transparent;\n",
              "      border-right-color: var(--fill-color);\n",
              "    }\n",
              "    80% {\n",
              "      border-color: transparent;\n",
              "      border-right-color: var(--fill-color);\n",
              "      border-bottom-color: var(--fill-color);\n",
              "    }\n",
              "    90% {\n",
              "      border-color: transparent;\n",
              "      border-bottom-color: var(--fill-color);\n",
              "    }\n",
              "  }\n",
              "</style>\n",
              "\n",
              "  <script>\n",
              "    async function quickchart(key) {\n",
              "      const quickchartButtonEl =\n",
              "        document.querySelector('#' + key + ' button');\n",
              "      quickchartButtonEl.disabled = true;  // To prevent multiple clicks.\n",
              "      quickchartButtonEl.classList.add('colab-df-spinner');\n",
              "      try {\n",
              "        const charts = await google.colab.kernel.invokeFunction(\n",
              "            'suggestCharts', [key], {});\n",
              "      } catch (error) {\n",
              "        console.error('Error during call to suggestCharts:', error);\n",
              "      }\n",
              "      quickchartButtonEl.classList.remove('colab-df-spinner');\n",
              "      quickchartButtonEl.classList.add('colab-df-quickchart-complete');\n",
              "    }\n",
              "    (() => {\n",
              "      let quickchartButtonEl =\n",
              "        document.querySelector('#df-a2419c61-3238-45d6-81bc-d7269eb9d325 button');\n",
              "      quickchartButtonEl.style.display =\n",
              "        google.colab.kernel.accessAllowed ? 'block' : 'none';\n",
              "    })();\n",
              "  </script>\n",
              "</div>\n",
              "\n",
              "    </div>\n",
              "  </div>\n"
            ],
            "application/vnd.google.colaboratory.intrinsic+json": {
              "type": "dataframe",
              "variable_name": "india",
              "summary": "{\n  \"name\": \"india\",\n  \"rows\": 36,\n  \"fields\": [\n    {\n      \"column\": \"State/UTs\",\n      \"properties\": {\n        \"dtype\": \"string\",\n        \"num_unique_values\": 36,\n        \"samples\": [\n          \"West Bengal\",\n          \"Jammu And Kashmir\",\n          \"Puducherry\"\n        ],\n        \"semantic_type\": \"\",\n        \"description\": \"\"\n      }\n    },\n    {\n      \"column\": \"Total Vaccination Doses\",\n      \"properties\": {\n        \"dtype\": \"number\",\n        \"std\": 79455650,\n        \"min\": 145313,\n        \"max\": 392011174,\n        \"num_unique_values\": 36,\n        \"samples\": [\n          156100370,\n          24782265,\n          2274059\n        ],\n        \"semantic_type\": \"\",\n        \"description\": \"\"\n      }\n    },\n    {\n      \"column\": \"Dose1\",\n      \"properties\": {\n        \"dtype\": \"number\",\n        \"std\": 32351363,\n        \"min\": 56914,\n        \"max\": 154096960,\n        \"num_unique_values\": 36,\n        \"samples\": [\n          67305396,\n          9942707,\n          913046\n        ],\n        \"semantic_type\": \"\",\n        \"description\": \"\"\n      }\n    },\n    {\n      \"column\": \"Dose 2\",\n      \"properties\": {\n        \"dtype\": \"number\",\n        \"std\": 30658441,\n        \"min\": 56019,\n        \"max\": 147866674,\n        \"num_unique_values\": 36,\n        \"samples\": [\n          61606895,\n          10388596,\n          802234\n        ],\n        \"semantic_type\": \"\",\n        \"description\": \"\"\n      }\n    },\n    {\n      \"column\": \"Dose 1 15-18\",\n      \"properties\": {\n        \"dtype\": \"number\",\n        \"std\": 2643017,\n        \"min\": 2911,\n        \"max\": 14193665,\n        \"num_unique_values\": 36,\n        \"samples\": [\n          3599987,\n          876049,\n          50694\n        ],\n        \"semantic_type\": \"\",\n        \"description\": \"\"\n      }\n    },\n    {\n      \"column\": \"Dose 2 15-18\",\n      \"properties\": {\n        \"dtype\": \"number\",\n        \"std\": 2410738,\n        \"min\": 2782,\n        \"max\": 13227415,\n        \"num_unique_values\": 36,\n        \"samples\": [\n          3041540,\n          861731,\n          44614\n        ],\n        \"semantic_type\": \"\",\n        \"description\": \"\"\n      }\n    },\n    {\n      \"column\": \"Dose 1 12-14\",\n      \"properties\": {\n        \"dtype\": \"number\",\n        \"std\": 1674574,\n        \"min\": 1988,\n        \"max\": 8709857,\n        \"num_unique_values\": 36,\n        \"samples\": [\n          2622505,\n          553845,\n          30873\n        ],\n        \"semantic_type\": \"\",\n        \"description\": \"\"\n      }\n    },\n    {\n      \"column\": \"Dose 2 12-14\",\n      \"properties\": {\n        \"dtype\": \"number\",\n        \"std\": 1451959,\n        \"min\": 1724,\n        \"max\": 7876085,\n        \"num_unique_values\": 36,\n        \"samples\": [\n          2059418,\n          517818,\n          21251\n        ],\n        \"semantic_type\": \"\",\n        \"description\": \"\"\n      }\n    },\n    {\n      \"column\": \"Precaution 18-59\",\n      \"properties\": {\n        \"dtype\": \"number\",\n        \"std\": 7040571,\n        \"min\": 15990,\n        \"max\": 36643273,\n        \"num_unique_values\": 36,\n        \"samples\": [\n          10358494,\n          965200,\n          304200\n        ],\n        \"semantic_type\": \"\",\n        \"description\": \"\"\n      }\n    },\n    {\n      \"column\": \"Population\",\n      \"properties\": {\n        \"dtype\": \"number\",\n        \"std\": 50509132,\n        \"min\": 66001,\n        \"max\": 231502578,\n        \"num_unique_values\": 36,\n        \"samples\": [\n          100896618,\n          14999397,\n          1646050\n        ],\n        \"semantic_type\": \"\",\n        \"description\": \"\"\n      }\n    }\n  ]\n}"
            }
          },
          "metadata": {},
          "execution_count": 20
        }
      ]
    },
    {
      "cell_type": "markdown",
      "source": [
        " Understand the data"
      ],
      "metadata": {
        "id": "Vv-xvCFbtrHi"
      }
    },
    {
      "cell_type": "code",
      "source": [
        "# Get basic information about the dataset\n",
        "print(india.info())\n",
        "\n",
        "# Check for missing values\n",
        "print(india.isnull().sum())\n",
        "\n",
        "# Summary statistics\n",
        "print(india.describe())\n"
      ],
      "metadata": {
        "colab": {
          "base_uri": "https://localhost:8080/"
        },
        "id": "FYh2MSSStQie",
        "outputId": "6530d374-8b55-4aa3-ddc5-7ef06b184b2b"
      },
      "execution_count": 21,
      "outputs": [
        {
          "output_type": "stream",
          "name": "stdout",
          "text": [
            "<class 'pandas.core.frame.DataFrame'>\n",
            "RangeIndex: 36 entries, 0 to 35\n",
            "Data columns (total 10 columns):\n",
            " #   Column                   Non-Null Count  Dtype \n",
            "---  ------                   --------------  ----- \n",
            " 0   State/UTs                36 non-null     object\n",
            " 1   Total Vaccination Doses  36 non-null     int64 \n",
            " 2   Dose1                    36 non-null     int64 \n",
            " 3   Dose 2                   36 non-null     int64 \n",
            " 4   Dose 1 15-18             36 non-null     int64 \n",
            " 5   Dose 2 15-18             36 non-null     int64 \n",
            " 6   Dose 1 12-14             36 non-null     int64 \n",
            " 7   Dose 2 12-14             36 non-null     int64 \n",
            " 8   Precaution 18-59         36 non-null     int64 \n",
            " 9   Population               36 non-null     int64 \n",
            "dtypes: int64(9), object(1)\n",
            "memory usage: 2.9+ KB\n",
            "None\n",
            "State/UTs                  0\n",
            "Total Vaccination Doses    0\n",
            "Dose1                      0\n",
            "Dose 2                     0\n",
            "Dose 1 15-18               0\n",
            "Dose 2 15-18               0\n",
            "Dose 1 12-14               0\n",
            "Dose 2 12-14               0\n",
            "Precaution 18-59           0\n",
            "Population                 0\n",
            "dtype: int64\n",
            "       Total Vaccination Doses         Dose1        Dose 2  Dose 1 15-18  \\\n",
            "count             3.600000e+01  3.600000e+01  3.600000e+01  3.600000e+01   \n",
            "mean              6.115204e+07  2.555900e+07  2.400569e+07  1.726729e+06   \n",
            "std               7.945565e+07  3.235136e+07  3.065844e+07  2.643017e+06   \n",
            "min               1.453130e+05  5.691400e+04  5.601900e+04  2.911000e+03   \n",
            "25%               2.287468e+06  1.045788e+06  8.914968e+05  5.975550e+04   \n",
            "50%               4.064265e+07  1.778092e+07  1.523439e+07  1.063244e+06   \n",
            "75%               1.121485e+08  4.281551e+07  4.431351e+07  2.558446e+06   \n",
            "max               3.920112e+08  1.540970e+08  1.478667e+08  1.419366e+07   \n",
            "\n",
            "       Dose 2 15-18  Dose 1 12-14  Dose 2 12-14  Precaution 18-59  \\\n",
            "count  3.600000e+01  3.600000e+01  3.600000e+01      3.600000e+01   \n",
            "mean   1.494555e+06  1.147220e+06  9.038605e+05      4.404951e+06   \n",
            "std    2.410739e+06  1.674575e+06  1.451959e+06      7.040571e+06   \n",
            "min    2.782000e+03  1.988000e+03  1.724000e+03      1.599000e+04   \n",
            "25%    4.459825e+04  3.800725e+04  2.649250e+04      1.323675e+05   \n",
            "50%    8.662620e+05  6.218590e+05  4.940200e+05      1.339208e+06   \n",
            "75%    2.299936e+06  1.680039e+06  1.472830e+06      6.229141e+06   \n",
            "max    1.322742e+07  8.709857e+06  7.876085e+06      3.664327e+07   \n",
            "\n",
            "         Population  \n",
            "count  3.600000e+01  \n",
            "mean   3.971861e+07  \n",
            "std    5.050913e+07  \n",
            "min    6.600100e+04  \n",
            "25%    1.695473e+06  \n",
            "50%    2.410088e+07  \n",
            "75%    6.979986e+07  \n",
            "max    2.315026e+08  \n"
          ]
        }
      ]
    },
    {
      "cell_type": "markdown",
      "source": [
        " Data Cleaning"
      ],
      "metadata": {
        "id": "JNGx5GROuD8t"
      }
    },
    {
      "cell_type": "code",
      "source": [
        "# Fill missing values with 0 (or use a strategy suitable for your data)\n",
        "india.fillna(0, inplace=True)\n",
        "\n",
        "# Remove duplicates if any\n",
        "india.drop_duplicates(inplace=True)\n",
        "\n",
        "# Check cleaned data\n",
        "print(india.isnull().sum())\n"
      ],
      "metadata": {
        "colab": {
          "base_uri": "https://localhost:8080/"
        },
        "id": "9ogdp1bGt-Xf",
        "outputId": "7dbcaaf7-fd02-4cb1-ebce-983936eefa57"
      },
      "execution_count": 22,
      "outputs": [
        {
          "output_type": "stream",
          "name": "stdout",
          "text": [
            "State/UTs                  0\n",
            "Total Vaccination Doses    0\n",
            "Dose1                      0\n",
            "Dose 2                     0\n",
            "Dose 1 15-18               0\n",
            "Dose 2 15-18               0\n",
            "Dose 1 12-14               0\n",
            "Dose 2 12-14               0\n",
            "Precaution 18-59           0\n",
            "Population                 0\n",
            "dtype: int64\n"
          ]
        }
      ]
    },
    {
      "cell_type": "markdown",
      "source": [
        "Exploratory Data Analysis (EDA)"
      ],
      "metadata": {
        "id": "xU0xFQdouXX2"
      }
    },
    {
      "cell_type": "code",
      "source": [
        "print(india.columns)\n"
      ],
      "metadata": {
        "colab": {
          "base_uri": "https://localhost:8080/"
        },
        "id": "xGPc0JFevIS7",
        "outputId": "1b5ad5fd-b707-4ac3-f574-f7f46039753b"
      },
      "execution_count": 23,
      "outputs": [
        {
          "output_type": "stream",
          "name": "stdout",
          "text": [
            "Index(['State/UTs', 'Total Vaccination Doses', 'Dose1', 'Dose 2',\n",
            "       'Dose 1 15-18', 'Dose 2 15-18', 'Dose 1 12-14', 'Dose 2 12-14',\n",
            "       'Precaution 18-59', 'Population'],\n",
            "      dtype='object')\n"
          ]
        }
      ]
    },
    {
      "cell_type": "code",
      "source": [
        "# Strip extra spaces and fix column names\n",
        "india.columns = india.columns.str.strip()\n",
        "print(india.columns)\n"
      ],
      "metadata": {
        "colab": {
          "base_uri": "https://localhost:8080/"
        },
        "id": "o8iQg-csulnr",
        "outputId": "11173856-d9d9-4533-93e4-4fb6fd898260"
      },
      "execution_count": 24,
      "outputs": [
        {
          "output_type": "stream",
          "name": "stdout",
          "text": [
            "Index(['State/UTs', 'Total Vaccination Doses', 'Dose1', 'Dose 2',\n",
            "       'Dose 1 15-18', 'Dose 2 15-18', 'Dose 1 12-14', 'Dose 2 12-14',\n",
            "       'Precaution 18-59', 'Population'],\n",
            "      dtype='object')\n"
          ]
        }
      ]
    },
    {
      "cell_type": "code",
      "source": [
        "for col in india.columns:\n",
        "    print(f'Column name: \"{col}\"')\n"
      ],
      "metadata": {
        "colab": {
          "base_uri": "https://localhost:8080/"
        },
        "id": "OA9RLoPRvNn7",
        "outputId": "70bc3398-c732-498b-aeab-4c67f9483ba3"
      },
      "execution_count": 25,
      "outputs": [
        {
          "output_type": "stream",
          "name": "stdout",
          "text": [
            "Column name: \"State/UTs\"\n",
            "Column name: \"Total Vaccination Doses\"\n",
            "Column name: \"Dose1\"\n",
            "Column name: \"Dose 2\"\n",
            "Column name: \"Dose 1 15-18\"\n",
            "Column name: \"Dose 2 15-18\"\n",
            "Column name: \"Dose 1 12-14\"\n",
            "Column name: \"Dose 2 12-14\"\n",
            "Column name: \"Precaution 18-59\"\n",
            "Column name: \"Population\"\n"
          ]
        }
      ]
    },
    {
      "cell_type": "code",
      "source": [
        "# Example: Rename columns to match your expected names\n",
        "india.rename(columns={' state': 'State', ' total_doses_administered': 'Total Doses Administered'}, inplace=True)\n"
      ],
      "metadata": {
        "id": "7SQ-H0diwsWC"
      },
      "execution_count": 26,
      "outputs": []
    },
    {
      "cell_type": "markdown",
      "source": [
        "Total vaccinations by state"
      ],
      "metadata": {
        "id": "9c1CBRxfyWBV"
      }
    },
    {
      "cell_type": "markdown",
      "source": [
        "Pie chart of dose 1 vs. dose 2 vaccinations\n",
        "\n",
        "*   List item\n",
        "*   List item\n",
        "\n"
      ],
      "metadata": {
        "id": "Gn1V3p4QyP5o"
      }
    },
    {
      "cell_type": "code",
      "source": [
        "labels = ['Dose1', 'Dose 2']\n",
        "sizes = [india['Dose1'].sum(), india['Dose 2'].sum()]\n",
        "\n",
        "plt.figure(figsize=(8, 8))\n",
        "plt.pie(sizes, labels=labels, autopct='%1.1f%%', colors=['skyblue', 'pink'])\n",
        "plt.title('Doses wise distribution')\n",
        "plt.show()\n"
      ],
      "metadata": {
        "colab": {
          "base_uri": "https://localhost:8080/",
          "height": 675
        },
        "id": "IbOgGO1yyG83",
        "outputId": "c9acf95b-0308-4823-8708-ea1dbee86d29"
      },
      "execution_count": 27,
      "outputs": [
        {
          "output_type": "display_data",
          "data": {
            "text/plain": [
              "<Figure size 800x800 with 1 Axes>"
            ],
            "image/png": "[encoded data removed]"
          },
          "metadata": {}
        }
      ]
    },
    {
      "cell_type": "markdown",
      "source": [
        "Top 10 states with the most vaccinations\n"
      ],
      "metadata": {
        "id": "dEtFI8ApzrD2"
      }
    },
    {
      "cell_type": "code",
      "source": [
        "india.head(7)"
      ],
      "metadata": {
        "colab": {
          "base_uri": "https://localhost:8080/",
          "height": 303
        },
        "id": "XuscrVMfU-Ss",
        "outputId": "0b963655-484f-471c-ee4c-ce4abee80915"
      },
      "execution_count": 28,
      "outputs": [
        {
          "output_type": "execute_result",
          "data": {
            "text/plain": [
              "             State/UTs  Total Vaccination Doses     Dose1    Dose 2  \\\n",
              "0  Andaman And Nicobar                   991264    313284    320383   \n",
              "1       Andhra Pradesh                110957430  40645695  43555744   \n",
              "2    Arunachal Pradesh                  1924584    861396    748505   \n",
              "3                Assam                 50335778  22550941  20575569   \n",
              "4                Bihar                157293015  62956601  59160917   \n",
              "5           Chandigarh                  2291937   1090035    921251   \n",
              "6         Chhattisgarh                 49167939  18956734  18537851   \n",
              "\n",
              "   Dose 1 15-18  Dose 2 15-18  Dose 1 12-14  Dose 2 12-14  Precaution 18-59  \\\n",
              "0         19208         18860         15124         14042            236936   \n",
              "1       2535344       2527613       1523375       1495445          12054868   \n",
              "2         59100         44869         40852         28445             81191   \n",
              "3       1262520        972402        999552        602283           2108179   \n",
              "4       6240650       5348480       4288630       3403195          12022637   \n",
              "5         57708         43907         38210         26050             51034   \n",
              "6       1234990       1053338       1076071        752571           5750424   \n",
              "\n",
              "   Population  \n",
              "0      399001  \n",
              "1    91702478  \n",
              "2     1711947  \n",
              "3    35998752  \n",
              "4   128500364  \n",
              "5     1158040  \n",
              "6    32199722  "
            ],
            "text/html": [
              "\n",
              "  <div id=\"df-71b9f434-626b-4e1f-97db-b54e40670af4\" class=\"colab-df-container\">\n",
              "    <div>\n",
              "<style scoped>\n",
              "    .dataframe tbody tr th:only-of-type {\n",
              "        vertical-align: middle;\n",
              "    }\n",
              "\n",
              "    .dataframe tbody tr th {\n",
              "        vertical-align: top;\n",
              "    }\n",
              "\n",
              "    .dataframe thead th {\n",
              "        text-align: right;\n",
              "    }\n",
              "</style>\n",
              "<table border=\"1\" class=\"dataframe\">\n",
              "  <thead>\n",
              "    <tr style=\"text-align: right;\">\n",
              "      <th></th>\n",
              "      <th>State/UTs</th>\n",
              "      <th>Total Vaccination Doses</th>\n",
              "      <th>Dose1</th>\n",
              "      <th>Dose 2</th>\n",
              "      <th>Dose 1 15-18</th>\n",
              "      <th>Dose 2 15-18</th>\n",
              "      <th>Dose 1 12-14</th>\n",
              "      <th>Dose 2 12-14</th>\n",
              "      <th>Precaution 18-59</th>\n",
              "      <th>Population</th>\n",
              "    </tr>\n",
              "  </thead>\n",
              "  <tbody>\n",
              "    <tr>\n",
              "      <th>0</th>\n",
              "      <td>Andaman And Nicobar</td>\n",
              "      <td>991264</td>\n",
              "      <td>313284</td>\n",
              "      <td>320383</td>\n",
              "      <td>19208</td>\n",
              "      <td>18860</td>\n",
              "      <td>15124</td>\n",
              "      <td>14042</td>\n",
              "      <td>236936</td>\n",
              "      <td>399001</td>\n",
              "    </tr>\n",
              "    <tr>\n",
              "      <th>1</th>\n",
              "      <td>Andhra Pradesh</td>\n",
              "      <td>110957430</td>\n",
              "      <td>40645695</td>\n",
              "      <td>43555744</td>\n",
              "      <td>2535344</td>\n",
              "      <td>2527613</td>\n",
              "      <td>1523375</td>\n",
              "      <td>1495445</td>\n",
              "      <td>12054868</td>\n",
              "      <td>91702478</td>\n",
              "    </tr>\n",
              "    <tr>\n",
              "      <th>2</th>\n",
              "      <td>Arunachal Pradesh</td>\n",
              "      <td>1924584</td>\n",
              "      <td>861396</td>\n",
              "      <td>748505</td>\n",
              "      <td>59100</td>\n",
              "      <td>44869</td>\n",
              "      <td>40852</td>\n",
              "      <td>28445</td>\n",
              "      <td>81191</td>\n",
              "      <td>1711947</td>\n",
              "    </tr>\n",
              "    <tr>\n",
              "      <th>3</th>\n",
              "      <td>Assam</td>\n",
              "      <td>50335778</td>\n",
              "      <td>22550941</td>\n",
              "      <td>20575569</td>\n",
              "      <td>1262520</td>\n",
              "      <td>972402</td>\n",
              "      <td>999552</td>\n",
              "      <td>602283</td>\n",
              "      <td>2108179</td>\n",
              "      <td>35998752</td>\n",
              "    </tr>\n",
              "    <tr>\n",
              "      <th>4</th>\n",
              "      <td>Bihar</td>\n",
              "      <td>157293015</td>\n",
              "      <td>62956601</td>\n",
              "      <td>59160917</td>\n",
              "      <td>6240650</td>\n",
              "      <td>5348480</td>\n",
              "      <td>4288630</td>\n",
              "      <td>3403195</td>\n",
              "      <td>12022637</td>\n",
              "      <td>128500364</td>\n",
              "    </tr>\n",
              "    <tr>\n",
              "      <th>5</th>\n",
              "      <td>Chandigarh</td>\n",
              "      <td>2291937</td>\n",
              "      <td>1090035</td>\n",
              "      <td>921251</td>\n",
              "      <td>57708</td>\n",
              "      <td>43907</td>\n",
              "      <td>38210</td>\n",
              "      <td>26050</td>\n",
              "      <td>51034</td>\n",
              "      <td>1158040</td>\n",
              "    </tr>\n",
              "    <tr>\n",
              "      <th>6</th>\n",
              "      <td>Chhattisgarh</td>\n",
              "      <td>49167939</td>\n",
              "      <td>18956734</td>\n",
              "      <td>18537851</td>\n",
              "      <td>1234990</td>\n",
              "      <td>1053338</td>\n",
              "      <td>1076071</td>\n",
              "      <td>752571</td>\n",
              "      <td>5750424</td>\n",
              "      <td>32199722</td>\n",
              "    </tr>\n",
              "  </tbody>\n",
              "</table>\n",
              "</div>\n",
              "    <div class=\"colab-df-buttons\">\n",
              "\n",
              "  <div class=\"colab-df-container\">\n",
              "    <button class=\"colab-df-convert\" onclick=\"convertToInteractive('df-71b9f434-626b-4e1f-97db-b54e40670af4')\"\n",
              "            title=\"Convert this dataframe to an interactive table.\"\n",
              "            style=\"display:none;\">\n",
              "\n",
              "  <svg xmlns=\"http://www.w3.org/2000/svg\" height=\"24px\" viewBox=\"0 -960 960 960\">\n",
              "    <path d=\"M120-120v-720h720v720H120Zm60-500h600v-160H180v160Zm220 220h160v-160H400v160Zm0 220h160v-160H400v160ZM180-400h160v-160H180v160Zm440 0h160v-160H620v160ZM180-180h160v-160H180v160Zm440 0h160v-160H620v160Z\"/>\n",
              "  </svg>\n",
              "    </button>\n",
              "\n",
              "  <style>\n",
              "    .colab-df-container {\n",
              "      display:flex;\n",
              "      gap: 12px;\n",
              "    }\n",
              "\n",
              "    .colab-df-convert {\n",
              "      background-color: #E8F0FE;\n",
              "      border: none;\n",
              "      border-radius: 50%;\n",
              "      cursor: pointer;\n",
              "      display: none;\n",
              "      fill: #1967D2;\n",
              "      height: 32px;\n",
              "      padding: 0 0 0 0;\n",
              "      width: 32px;\n",
              "    }\n",
              "\n",
              "    .colab-df-convert:hover {\n",
              "      background-color: #E2EBFA;\n",
              "      box-shadow: 0px 1px 2px rgba(60, 64, 67, 0.3), 0px 1px 3px 1px rgba(60, 64, 67, 0.15);\n",
              "      fill: #174EA6;\n",
              "    }\n",
              "\n",
              "    .colab-df-buttons div {\n",
              "      margin-bottom: 4px;\n",
              "    }\n",
              "\n",
              "    [theme=dark] .colab-df-convert {\n",
              "      background-color: #3B4455;\n",
              "      fill: #D2E3FC;\n",
              "    }\n",
              "\n",
              "    [theme=dark] .colab-df-convert:hover {\n",
              "      background-color: #434B5C;\n",
              "      box-shadow: 0px 1px 3px 1px rgba(0, 0, 0, 0.15);\n",
              "      filter: drop-shadow(0px 1px 2px rgba(0, 0, 0, 0.3));\n",
              "      fill: #FFFFFF;\n",
              "    }\n",
              "  </style>\n",
              "\n",
              "    <script>\n",
              "      const buttonEl =\n",
              "        document.querySelector('#df-71b9f434-626b-4e1f-97db-b54e40670af4 button.colab-df-convert');\n",
              "      buttonEl.style.display =\n",
              "        google.colab.kernel.accessAllowed ? 'block' : 'none';\n",
              "\n",
              "      async function convertToInteractive(key) {\n",
              "        const element = document.querySelector('#df-71b9f434-626b-4e1f-97db-b54e40670af4');\n",
              "        const dataTable =\n",
              "          await google.colab.kernel.invokeFunction('convertToInteractive',\n",
              "                                                    [key], {});\n",
              "        if (!dataTable) return;\n",
              "\n",
              "        const docLinkHtml = 'Like what you see? Visit the ' +\n",
              "          '<a target=\"_blank\" href=https://colab.research.google.com/notebooks/data_table.ipynb>data table notebook</a>'\n",
              "          + ' to learn more about interactive tables.';\n",
              "        element.innerHTML = '';\n",
              "        dataTable['output_type'] = 'display_data';\n",
              "        await google.colab.output.renderOutput(dataTable, element);\n",
              "        const docLink = document.createElement('div');\n",
              "        docLink.innerHTML = docLinkHtml;\n",
              "        element.appendChild(docLink);\n",
              "      }\n",
              "    </script>\n",
              "  </div>\n",
              "\n",
              "\n",
              "<div id=\"df-016d26e0-9deb-4d09-bbd2-76c6c971e1d2\">\n",
              "  <button class=\"colab-df-quickchart\" onclick=\"quickchart('df-016d26e0-9deb-4d09-bbd2-76c6c971e1d2')\"\n",
              "            title=\"Suggest charts\"\n",
              "            style=\"display:none;\">\n",
              "\n",
              "<svg xmlns=\"http://www.w3.org/2000/svg\" height=\"24px\"viewBox=\"0 0 24 24\"\n",
              "     width=\"24px\">\n",
              "    <g>\n",
              "        <path d=\"M19 3H5c-1.1 0-2 .9-2 2v14c0 1.1.9 2 2 2h14c1.1 0 2-.9 2-2V5c0-1.1-.9-2-2-2zM9 17H7v-7h2v7zm4 0h-2V7h2v10zm4 0h-2v-4h2v4z\"/>\n",
              "    </g>\n",
              "</svg>\n",
              "  </button>\n",
              "\n",
              "<style>\n",
              "  .colab-df-quickchart {\n",
              "      --bg-color: #E8F0FE;\n",
              "      --fill-color: #1967D2;\n",
              "      --hover-bg-color: #E2EBFA;\n",
              "      --hover-fill-color: #174EA6;\n",
              "      --disabled-fill-color: #AAA;\n",
              "      --disabled-bg-color: #DDD;\n",
              "  }\n",
              "\n",
              "  [theme=dark] .colab-df-quickchart {\n",
              "      --bg-color: #3B4455;\n",
              "      --fill-color: #D2E3FC;\n",
              "      --hover-bg-color: #434B5C;\n",
              "      --hover-fill-color: #FFFFFF;\n",
              "      --disabled-bg-color: #3B4455;\n",
              "      --disabled-fill-color: #666;\n",
              "  }\n",
              "\n",
              "  .colab-df-quickchart {\n",
              "    background-color: var(--bg-color);\n",
              "    border: none;\n",
              "    border-radius: 50%;\n",
              "    cursor: pointer;\n",
              "    display: none;\n",
              "    fill: var(--fill-color);\n",
              "    height: 32px;\n",
              "    padding: 0;\n",
              "    width: 32px;\n",
              "  }\n",
              "\n",
              "  .colab-df-quickchart:hover {\n",
              "    background-color: var(--hover-bg-color);\n",
              "    box-shadow: 0 1px 2px rgba(60, 64, 67, 0.3), 0 1px 3px 1px rgba(60, 64, 67, 0.15);\n",
              "    fill: var(--button-hover-fill-color);\n",
              "  }\n",
              "\n",
              "  .colab-df-quickchart-complete:disabled,\n",
              "  .colab-df-quickchart-complete:disabled:hover {\n",
              "    background-color: var(--disabled-bg-color);\n",
              "    fill: var(--disabled-fill-color);\n",
              "    box-shadow: none;\n",
              "  }\n",
              "\n",
              "  .colab-df-spinner {\n",
              "    border: 2px solid var(--fill-color);\n",
              "    border-color: transparent;\n",
              "    border-bottom-color: var(--fill-color);\n",
              "    animation:\n",
              "      spin 1s steps(1) infinite;\n",
              "  }\n",
              "\n",
              "  @keyframes spin {\n",
              "    0% {\n",
              "      border-color: transparent;\n",
              "      border-bottom-color: var(--fill-color);\n",
              "      border-left-color: var(--fill-color);\n",
              "    }\n",
              "    20% {\n",
              "      border-color: transparent;\n",
              "      border-left-color: var(--fill-color);\n",
              "      border-top-color: var(--fill-color);\n",
              "    }\n",
              "    30% {\n",
              "      border-color: transparent;\n",
              "      border-left-color: var(--fill-color);\n",
              "      border-top-color: var(--fill-color);\n",
              "      border-right-color: var(--fill-color);\n",
              "    }\n",
              "    40% {\n",
              "      border-color: transparent;\n",
              "      border-right-color: var(--fill-color);\n",
              "      border-top-color: var(--fill-color);\n",
              "    }\n",
              "    60% {\n",
              "      border-color: transparent;\n",
              "      border-right-color: var(--fill-color);\n",
              "    }\n",
              "    80% {\n",
              "      border-color: transparent;\n",
              "      border-right-color: var(--fill-color);\n",
              "      border-bottom-color: var(--fill-color);\n",
              "    }\n",
              "    90% {\n",
              "      border-color: transparent;\n",
              "      border-bottom-color: var(--fill-color);\n",
              "    }\n",
              "  }\n",
              "</style>\n",
              "\n",
              "  <script>\n",
              "    async function quickchart(key) {\n",
              "      const quickchartButtonEl =\n",
              "        document.querySelector('#' + key + ' button');\n",
              "      quickchartButtonEl.disabled = true;  // To prevent multiple clicks.\n",
              "      quickchartButtonEl.classList.add('colab-df-spinner');\n",
              "      try {\n",
              "        const charts = await google.colab.kernel.invokeFunction(\n",
              "            'suggestCharts', [key], {});\n",
              "      } catch (error) {\n",
              "        console.error('Error during call to suggestCharts:', error);\n",
              "      }\n",
              "      quickchartButtonEl.classList.remove('colab-df-spinner');\n",
              "      quickchartButtonEl.classList.add('colab-df-quickchart-complete');\n",
              "    }\n",
              "    (() => {\n",
              "      let quickchartButtonEl =\n",
              "        document.querySelector('#df-016d26e0-9deb-4d09-bbd2-76c6c971e1d2 button');\n",
              "      quickchartButtonEl.style.display =\n",
              "        google.colab.kernel.accessAllowed ? 'block' : 'none';\n",
              "    })();\n",
              "  </script>\n",
              "</div>\n",
              "\n",
              "    </div>\n",
              "  </div>\n"
            ],
            "application/vnd.google.colaboratory.intrinsic+json": {
              "type": "dataframe",
              "variable_name": "india",
              "summary": "{\n  \"name\": \"india\",\n  \"rows\": 36,\n  \"fields\": [\n    {\n      \"column\": \"State/UTs\",\n      \"properties\": {\n        \"dtype\": \"string\",\n        \"num_unique_values\": 36,\n        \"samples\": [\n          \"West Bengal\",\n          \"Jammu And Kashmir\",\n          \"Puducherry\"\n        ],\n        \"semantic_type\": \"\",\n        \"description\": \"\"\n      }\n    },\n    {\n      \"column\": \"Total Vaccination Doses\",\n      \"properties\": {\n        \"dtype\": \"number\",\n        \"std\": 79455650,\n        \"min\": 145313,\n        \"max\": 392011174,\n        \"num_unique_values\": 36,\n        \"samples\": [\n          156100370,\n          24782265,\n          2274059\n        ],\n        \"semantic_type\": \"\",\n        \"description\": \"\"\n      }\n    },\n    {\n      \"column\": \"Dose1\",\n      \"properties\": {\n        \"dtype\": \"number\",\n        \"std\": 32351363,\n        \"min\": 56914,\n        \"max\": 154096960,\n        \"num_unique_values\": 36,\n        \"samples\": [\n          67305396,\n          9942707,\n          913046\n        ],\n        \"semantic_type\": \"\",\n        \"description\": \"\"\n      }\n    },\n    {\n      \"column\": \"Dose 2\",\n      \"properties\": {\n        \"dtype\": \"number\",\n        \"std\": 30658441,\n        \"min\": 56019,\n        \"max\": 147866674,\n        \"num_unique_values\": 36,\n        \"samples\": [\n          61606895,\n          10388596,\n          802234\n        ],\n        \"semantic_type\": \"\",\n        \"description\": \"\"\n      }\n    },\n    {\n      \"column\": \"Dose 1 15-18\",\n      \"properties\": {\n        \"dtype\": \"number\",\n        \"std\": 2643017,\n        \"min\": 2911,\n        \"max\": 14193665,\n        \"num_unique_values\": 36,\n        \"samples\": [\n          3599987,\n          876049,\n          50694\n        ],\n        \"semantic_type\": \"\",\n        \"description\": \"\"\n      }\n    },\n    {\n      \"column\": \"Dose 2 15-18\",\n      \"properties\": {\n        \"dtype\": \"number\",\n        \"std\": 2410738,\n        \"min\": 2782,\n        \"max\": 13227415,\n        \"num_unique_values\": 36,\n        \"samples\": [\n          3041540,\n          861731,\n          44614\n        ],\n        \"semantic_type\": \"\",\n        \"description\": \"\"\n      }\n    },\n    {\n      \"column\": \"Dose 1 12-14\",\n      \"properties\": {\n        \"dtype\": \"number\",\n        \"std\": 1674574,\n        \"min\": 1988,\n        \"max\": 8709857,\n        \"num_unique_values\": 36,\n        \"samples\": [\n          2622505,\n          553845,\n          30873\n        ],\n        \"semantic_type\": \"\",\n        \"description\": \"\"\n      }\n    },\n    {\n      \"column\": \"Dose 2 12-14\",\n      \"properties\": {\n        \"dtype\": \"number\",\n        \"std\": 1451959,\n        \"min\": 1724,\n        \"max\": 7876085,\n        \"num_unique_values\": 36,\n        \"samples\": [\n          2059418,\n          517818,\n          21251\n        ],\n        \"semantic_type\": \"\",\n        \"description\": \"\"\n      }\n    },\n    {\n      \"column\": \"Precaution 18-59\",\n      \"properties\": {\n        \"dtype\": \"number\",\n        \"std\": 7040571,\n        \"min\": 15990,\n        \"max\": 36643273,\n        \"num_unique_values\": 36,\n        \"samples\": [\n          10358494,\n          965200,\n          304200\n        ],\n        \"semantic_type\": \"\",\n        \"description\": \"\"\n      }\n    },\n    {\n      \"column\": \"Population\",\n      \"properties\": {\n        \"dtype\": \"number\",\n        \"std\": 50509132,\n        \"min\": 66001,\n        \"max\": 231502578,\n        \"num_unique_values\": 36,\n        \"samples\": [\n          100896618,\n          14999397,\n          1646050\n        ],\n        \"semantic_type\": \"\",\n        \"description\": \"\"\n      }\n    }\n  ]\n}"
            }
          },
          "metadata": {},
          "execution_count": 28
        }
      ]
    },
    {
      "cell_type": "code",
      "source": [
        "# Display first few rows to understand the structure of the data\n",
        "print(\"Data Preview:\")\n",
        "print(india.head())"
      ],
      "metadata": {
        "id": "oaimzXKhW7Da",
        "colab": {
          "base_uri": "https://localhost:8080/"
        },
        "outputId": "11494194-0036-4a61-fdb8-2c8150e103a2"
      },
      "execution_count": 30,
      "outputs": [
        {
          "output_type": "stream",
          "name": "stdout",
          "text": [
            "Data Preview:\n",
            "             State/UTs  Total Vaccination Doses     Dose1    Dose 2  \\\n",
            "0  Andaman And Nicobar                   991264    313284    320383   \n",
            "1       Andhra Pradesh                110957430  40645695  43555744   \n",
            "2    Arunachal Pradesh                  1924584    861396    748505   \n",
            "3                Assam                 50335778  22550941  20575569   \n",
            "4                Bihar                157293015  62956601  59160917   \n",
            "\n",
            "   Dose 1 15-18  Dose 2 15-18  Dose 1 12-14  Dose 2 12-14  Precaution 18-59  \\\n",
            "0         19208         18860         15124         14042            236936   \n",
            "1       2535344       2527613       1523375       1495445          12054868   \n",
            "2         59100         44869         40852         28445             81191   \n",
            "3       1262520        972402        999552        602283           2108179   \n",
            "4       6240650       5348480       4288630       3403195          12022637   \n",
            "\n",
            "   Population  \n",
            "0      399001  \n",
            "1    91702478  \n",
            "2     1711947  \n",
            "3    35998752  \n",
            "4   128500364  \n"
          ]
        }
      ]
    },
    {
      "cell_type": "code",
      "source": [
        "print(\"\\nSummary Statistics:\")\n",
        "print(india.describe())"
      ],
      "metadata": {
        "colab": {
          "base_uri": "https://localhost:8080/"
        },
        "id": "I_3jvr2S4DWW",
        "outputId": "85bc6e99-6f03-4dd1-c4f2-9be1cffe942d"
      },
      "execution_count": 31,
      "outputs": [
        {
          "output_type": "stream",
          "name": "stdout",
          "text": [
            "\n",
            "Summary Statistics:\n",
            "       Total Vaccination Doses         Dose1        Dose 2  Dose 1 15-18  \\\n",
            "count             3.600000e+01  3.600000e+01  3.600000e+01  3.600000e+01   \n",
            "mean              6.115204e+07  2.555900e+07  2.400569e+07  1.726729e+06   \n",
            "std               7.945565e+07  3.235136e+07  3.065844e+07  2.643017e+06   \n",
            "min               1.453130e+05  5.691400e+04  5.601900e+04  2.911000e+03   \n",
            "25%               2.287468e+06  1.045788e+06  8.914968e+05  5.975550e+04   \n",
            "50%               4.064265e+07  1.778092e+07  1.523439e+07  1.063244e+06   \n",
            "75%               1.121485e+08  4.281551e+07  4.431351e+07  2.558446e+06   \n",
            "max               3.920112e+08  1.540970e+08  1.478667e+08  1.419366e+07   \n",
            "\n",
            "       Dose 2 15-18  Dose 1 12-14  Dose 2 12-14  Precaution 18-59  \\\n",
            "count  3.600000e+01  3.600000e+01  3.600000e+01      3.600000e+01   \n",
            "mean   1.494555e+06  1.147220e+06  9.038605e+05      4.404951e+06   \n",
            "std    2.410739e+06  1.674575e+06  1.451959e+06      7.040571e+06   \n",
            "min    2.782000e+03  1.988000e+03  1.724000e+03      1.599000e+04   \n",
            "25%    4.459825e+04  3.800725e+04  2.649250e+04      1.323675e+05   \n",
            "50%    8.662620e+05  6.218590e+05  4.940200e+05      1.339208e+06   \n",
            "75%    2.299936e+06  1.680039e+06  1.472830e+06      6.229141e+06   \n",
            "max    1.322742e+07  8.709857e+06  7.876085e+06      3.664327e+07   \n",
            "\n",
            "         Population  \n",
            "count  3.600000e+01  \n",
            "mean   3.971861e+07  \n",
            "std    5.050913e+07  \n",
            "min    6.600100e+04  \n",
            "25%    1.695473e+06  \n",
            "50%    2.410088e+07  \n",
            "75%    6.979986e+07  \n",
            "max    2.315026e+08  \n"
          ]
        }
      ]
    },
    {
      "cell_type": "code",
      "source": [
        "# Step 3: Checking for null values\n",
        "print(\"\\nMissing Values:\")\n",
        "print(india.isnull().sum())"
      ],
      "metadata": {
        "colab": {
          "base_uri": "https://localhost:8080/"
        },
        "id": "hM64WJtU4SBk",
        "outputId": "014bd08f-e580-45cf-d0c8-249891806d23"
      },
      "execution_count": 32,
      "outputs": [
        {
          "output_type": "stream",
          "name": "stdout",
          "text": [
            "\n",
            "Missing Values:\n",
            "State/UTs                  0\n",
            "Total Vaccination Doses    0\n",
            "Dose1                      0\n",
            "Dose 2                     0\n",
            "Dose 1 15-18               0\n",
            "Dose 2 15-18               0\n",
            "Dose 1 12-14               0\n",
            "Dose 2 12-14               0\n",
            "Precaution 18-59           0\n",
            "Population                 0\n",
            "dtype: int64\n"
          ]
        }
      ]
    },
    {
      "cell_type": "code",
      "source": [
        "india.groupby"
      ],
      "metadata": {
        "id": "CYMBQ4d59x8A"
      },
      "execution_count": null,
      "outputs": []
    },
    {
      "cell_type": "code",
      "source": [
        "#Step 5: Aggregating the data by state\n",
        "total_vaccinations_by_state = india.groupby('State/UTs')['Total Vaccination Doses'].sum().reset_index()\n",
        "total_vaccinations_by_state = total_vaccinations_by_state.sort_values(by='Total Vaccination Doses', ascending=False)\n",
        "\n",
        "print(\"\\nTotal Vaccinations by State/UTs:\")\n",
        "print(total_vaccinations_by_state)"
      ],
      "metadata": {
        "colab": {
          "base_uri": "https://localhost:8080/"
        },
        "id": "uHqWmNCl4atJ",
        "outputId": "e86767ef-1f4f-4591-be77-c18956a02e14"
      },
      "execution_count": 40,
      "outputs": [
        {
          "output_type": "stream",
          "name": "stdout",
          "text": [
            "\n",
            "Total Vaccinations by State/UTs:\n",
            "                                   State/UTs  Total Vaccination Doses\n",
            "33                             Uttar Pradesh                392011174\n",
            "20                               Maharashtra                177977996\n",
            "4                                      Bihar                157293015\n",
            "35                               West Bengal                156100370\n",
            "19                            Madhya Pradesh                133940196\n",
            "10                                   Gujarat                128105565\n",
            "30                                Tamil Nadu                127533904\n",
            "15                                 Karnataka                122152396\n",
            "28                                 Rajasthan                115721511\n",
            "1                             Andhra Pradesh                110957430\n",
            "25                                    Odisha                 81545960\n",
            "31                                 Telangana                 77627542\n",
            "16                                    Kerala                 57511593\n",
            "3                                      Assam                 50335778\n",
            "6                               Chhattisgarh                 49167939\n",
            "27                                    Punjab                 47051166\n",
            "11                                   Haryana                 45546800\n",
            "14                                 Jharkhand                 43875944\n",
            "8                                      Delhi                 37409355\n",
            "13                         Jammu And Kashmir                 24782265\n",
            "34                               Uttarakhand                 20143654\n",
            "12                          Himachal Pradesh                 15325484\n",
            "32                                   Tripura                  5918997\n",
            "21                                   Manipur                  3269105\n",
            "9                                        Goa                  2874477\n",
            "22                                 Meghalaya                  2626010\n",
            "5                                 Chandigarh                  2291937\n",
            "26                                Puducherry                  2274059\n",
            "2                          Arunachal Pradesh                  1924584\n",
            "23                                   Mizoram                  1793298\n",
            "24                                  Nagaland                  1739837\n",
            "7   Dadra And Nagar Haveli And Daman And Diu                  1580060\n",
            "29                                    Sikkim                  1360477\n",
            "0                        Andaman And Nicobar                   991264\n",
            "17                                    Ladakh                   567133\n",
            "18                               Lakshadweep                   145313\n"
          ]
        }
      ]
    },
    {
      "cell_type": "code",
      "source": [
        "# Step 6: Visualization\n",
        "plt.figure(figsize=(12, 8))\n",
        "sns.barplot(x='Total Vaccination Doses', y='State/UTs', data=total_vaccinations_by_state, palette='viridis')\n",
        "plt.title('Total Vaccinations Doses by State/UTs')\n",
        "plt.xlabel('Total Vaccination Doses')\n",
        "plt.ylabel('State/UTs')\n",
        "plt.show()"
      ],
      "metadata": {
        "colab": {
          "base_uri": "https://localhost:8080/",
          "height": 727
        },
        "id": "2x_XjDM74w-z",
        "outputId": "f53aeb0f-ef1c-4f27-88ba-c66fd13a7f80"
      },
      "execution_count": 41,
      "outputs": [
        {
          "output_type": "stream",
          "name": "stderr",
          "text": [
            "<ipython-input-41-8c825a8bc647>:3: FutureWarning: \n",
            "\n",
            "Passing `palette` without assigning `hue` is deprecated and will be removed in v0.14.0. Assign the `y` variable to `hue` and set `legend=False` for the same effect.\n",
            "\n",
            "  sns.barplot(x='Total Vaccination Doses', y='State/UTs', data=total_vaccinations_by_state, palette='viridis')\n"
          ]
        },
        {
          "output_type": "display_data",
          "data": {
            "text/plain": [
              "<Figure size 1200x800 with 1 Axes>"
            ],
            "image/png": "[encoded data removed]"
          },
          "metadata": {}
        }
      ]
    },
    {
      "cell_type": "code",
      "source": [
        "# Step 7: Analyzing daily trends (if date column exists)\n",
        "if 'Date' in india.columns:\n",
        "    data['Date'] = pd.to_datetime(data['Date'])\n",
        "    daily_vaccinations = data.groupby('Date')['Total Vaccination Doses'].sum().reset_index()\n",
        "\n",
        "    plt.figure(figsize=(12, 6))\n",
        "    sns.lineplot(x='Date', y='Total Vaccination Doses', data=daily_vaccinations, marker='o')\n",
        "    plt.title('Daily Vaccinations Trend')\n",
        "    plt.xlabel('Date')\n",
        "    plt.ylabel('Total Vaccination Doses')\n",
        "    plt.xticks(rotation=45)\n",
        "    plt.show()"
      ],
      "metadata": {
        "id": "sF5Dctz_5G1o"
      },
      "execution_count": 43,
      "outputs": []
    },
    {
      "cell_type": "code",
      "source": [
        "# Step 8: Insights and Summary\n",
        "print(\"\\nInsights:\")\n",
        "print(\"1. The states with the highest number of total vaccinations are displayed in the bar plot.\")\n",
        "print(\"2. The daily trend plot shows how the vaccination numbers have varied over time.\")\n",
        "print(\"3. Further analysis could include age-wise or gender-wise breakdown if the data contains such columns.\")\n"
      ],
      "metadata": {
        "colab": {
          "base_uri": "https://localhost:8080/"
        },
        "id": "SO1SCCkQ5w-0",
        "outputId": "03374329-0deb-468d-d265-6f19e4190181"
      },
      "execution_count": 38,
      "outputs": [
        {
          "output_type": "stream",
          "name": "stdout",
          "text": [
            "\n",
            "Insights:\n",
            "1. The states with the highest number of total vaccinations are displayed in the bar plot.\n",
            "2. The daily trend plot shows how the vaccination numbers have varied over time.\n",
            "3. Further analysis could include age-wise or gender-wise breakdown if the data contains such columns.\n"
          ]
        }
      ]
    },
    {
      "cell_type": "code",
      "source": [],
      "metadata": {
        "id": "KEYDGObI51BD"
      },
      "execution_count": null,
      "outputs": []
    }
  ]
}